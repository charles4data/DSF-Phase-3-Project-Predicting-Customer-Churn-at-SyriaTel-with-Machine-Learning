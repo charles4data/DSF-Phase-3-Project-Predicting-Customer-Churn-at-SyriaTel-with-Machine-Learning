{
 "cells": [
  {
   "cell_type": "markdown",
   "metadata": {
    "id": "zQK4HlUify0r"
   },
   "source": [
    "# <center>Reducing Customer Churn: Using Machine Learning to Predict Customer Retention at Syriatel Mobile Telecom</center>"
   ]
  },
  {
   "cell_type": "markdown",
   "metadata": {
    "id": "mvRbcR8xfy0t"
   },
   "source": [
    "## Introduction\n",
    "\n",
    "Business growth and development remains a central motivator in organizational decision-making and policy making. Although every business leader aspires to achieve growth in revenues, clientele, and profitability, they must try as much as possible to avoid making losses.\n",
    "\n",
    "In recent years, such leaders, as well as business experts, have identified customer satisfaction as an important factor to ensuring such growth and development. Without customers, a business would not make any sales, record any cash inflows in terms of revenues, nor make any profits. This underscores the the need for organizations to implement measures that retain existing customers.\n",
    "\n",
    "Recent technological advancements have also contributed to an increased business rivalry, especially due to increased startups and entrants. Such competition, coupled with an augmented saturation of markets, means that it has become harder and more expensive for businesses in most sectors to acquire new clients, which means they must shift their focus to cementing relationships with existing customers.\n",
    "\n",
    "A `2014 article`, called [The Value of Keeping the Right Customers](https://hbr.org/2014/10/the-value-of-keeping-the-right-customers), written by `Amy Gallo` stresses on the importance of any business investing more to retain existing customers (avoiding customer churning) than acquiring new ones. Gallo maintains that it costs from 5 to 25 times to acquire a new customer than retain an existing one while retaining existing clients by `5%` results in profits augmenting by `25%` to `95%`.\n",
    "\n",
    "![Retaining Existing Customers vs Acquiring New Ones: Why a Business Should Avoid Customer Churning](images/customer-retention-vs-acquisition.png)\n",
    "**Source:** [The Value of Keeping the Right Customers](https://www.netscribes.com/customer-retention-strategies/)\n",
    "\n",
    "Through this project, we are building a prediction model that identifies patterns in customer churning, which can be helpful in developing mitigation strategies. The project is structured as follows:\n",
    "\n",
    "1. **Business Understanding**\n",
    "2. **Data Understanding**\n",
    "3. **Data Preparation**\n",
    "4. **Exploratory Data Analysis**\n",
    "5. **Modelling**\n",
    "6. **Model Evaluation**\n",
    "7. **Recommendations and Conclusions**"
   ]
  },
  {
   "cell_type": "markdown",
   "metadata": {
    "id": "ZtuQ5gpUfy0u"
   },
   "source": [
    "## Business Understanding\n",
    "With an increasing blend of factors such as competition, technological innovations, and globalization, among others in the telecommunication markets, **Syriatel Mobile Telecom** has stressed on the need to improve customer satisfaction and preserve its `8 million` clientele. Through its [linkedIn profile](https://sy.linkedin.com/company/syriatel), the Syrian telecommunication giant reiterates on its commitment to maintaining its market position by establishing `\"its reputation by focusing on customer satisfaction and social responsibility.\"`\n",
    "\n",
    "Although such efforts have been fruitful over the years, the company needs to increase its commitment to reducing customer charning rates, which might threaten its market position, profitability, and overall growth. Retaining the company's `8 million customers` will help the company reduce the costs, avoid losses, and increase sales. Further, such actions would contribute to an increased ROI, reduced marketing costs, augmented customer loyalty, and promote further client acquisition through referrals, as outlined by `Amy Gallo`.\n",
    "\n",
    "Hence, this project will help **Syriatel Mobile Telecom** identify customers with highest probabilities of churning, which will be crucial for implementing new policies and business frameworks intended to ensure retention. As defined by Amy Gallo `\"Customer churn rate is a metric that measures the percentage of customers who end their relationship with a company in a particular period.\"` In this scenario, the emphasis is on identifying prospective churners among SyriaTel's customer base and implementing the necessary strategic business decisions intended to ensure such clients are retained.\n",
    "\n",
    "**Primary stakeholder:**\n",
    "+ Syriatel Mobile Telecom\n",
    "\n",
    "**Other Stakeholders:**\n",
    "+ Shareholders\n",
    "+ Employees\n",
    "+ Customers\n",
    "\n",
    "\n",
    "As the principle stakeholder, the company stands to benefits from this model through a reduction in customer charning rates, which has the potential to increase revenues and profits, promote growth, and sustain, or rather, increase its market position. The customers will also benefit through improved telecomunication services, not forgetting better customer service. As the company continues to grow, through revenues, profits, increased customers, and higher market share, the shareholders will also get more returns on their investments (ROI) while employees benefit from better remunerations and bonuses.\n",
    "\n",
    "\n",
    "The project aims to provide value to the different stakeholders by identifying predictable patterns related to customer churn, which can help SyriaTel take proactive measures to retain customers and minimize revenue loss.\n",
    "\n",
    "**Research Objectives:**\n",
    "+ To identify the key features that determine if a customer is likely to churn.\n",
    "+ To develop a predictive model that can accurately classify customers as likely or unlikely to churn.\n",
    "+ To evaluate the impact of customer service calls, international plans, and day and night charges on customer churn.\n",
    "+ To recommend cost-effective strategies for Syriatel Mobile Telecom to retain customers and minimize revenue loss.\n",
    "\n",
    "**Research Questions:**\n",
    "+ What are the most significant predictors of customer churn for Syriatel Mobile Telecom?\n",
    "+ How accurately can we predict customer churn using a machine learning model?\n",
    "+ What is the relationship between customer service calls, international plans, day and night charges, and customer churn?\n",
    "+ What strategies can Syriatel Mobile Telecom implement to retain customers and reduce churn rates?"
   ]
  },
  {
   "cell_type": "markdown",
   "metadata": {
    "id": "yvB2HHcffy0w"
   },
   "source": [
    "## Data Understanding\n",
    "The Churn in Telecom’s dataset from Kaggle contains information about customer activity and whether or not they canceled their subscription with Orange Telecom. The goal of this dataset is to develop predictive models that can help the telecom business reduce the amount of money lost due to customers who don’t stick around for very long.\n",
    "\n",
    "The dataset contains 3333 entries and 21 columns, including information about the state, account length, area code, phone number, international plan, voice mail plan, number of voice mail messages, total day minutes, total day calls, total day charge, total evening minutes, total evening calls, total evening charge, total night minutes, total night calls, total night charge, total international minutes, total international calls, total international charge, customer service calls and churn.\n",
    "\n",
    "In this phase of the project, we will focus on getting familiar with the data and identifying any potential data quality issues. We will also perform some initial exploratory data analysis to discover first insights into the data.\n",
    "\n",
    "**Summary of Features in the Datset**\n",
    "+\t**State:** The state the customer lives in\n",
    "+\t**Account Length:** The number of days the customer has had an account.\n",
    "+\t**Area Code:** The area code of the customer\n",
    "+\t**Phone Number:** The phone number of the customer\n",
    "+\t**International Plan:** True if the customer has the international plan, otherwise false.\n",
    "+\t**Voice Mail Plan:** True if the customer has the voice mail plan, otherwise false.\n",
    "+\t**Number Vmail Messages:** the number of voicemails the customer has sent.\n",
    "+\t**Total Day Minutes:** total number of minutes the customer has been in calls during the day.\n",
    "+\t**Total Day Calls:** total number of calls the user has done during the day.\n",
    "+\t**Total Day Charge:** total amount of money the customer was charged by the Telecom company for calls during the day.\n",
    "+\t**Total Eve Minutes:** total number of minutes the customer has been in calls during the evening.\n",
    "+\t**Total Eve Calls:** total number of calls the customer has done during the evening.\n",
    "+\t**Total Eve Charge:** total amount of money the customer was charged by the Telecom company for calls during the evening.\n",
    "+\t**Total Night Minutes:** total number of minutes the customer has been in calls during the night.\n",
    "+\t**Total Night Calls:** total number of calls the customer has done during the night.\n",
    "+\t**Total Night Charge:** total amount of money the customer was charged by the Telecom company for calls during the night.\n",
    "+\t**Total Intl Minutes:** total number of minutes the user has been in international calls.\n",
    "+\t**Total Intl Calls:** total number of international calls the customer has done.\n",
    "+\t**Total Intl Charge:** total amount of money the customer was charged by the Telecom company for international calls.\n",
    "+\t**Customer Service Calls:** number of calls the customer has made to customer service.\n",
    "+\t**Churn:** true if the customer terminated their contract, otherwise false\n",
    "\n"
   ]
  },
  {
   "cell_type": "markdown",
   "metadata": {
    "id": "r2Fq_U0Mfy01"
   },
   "source": [
    "## Data Preparation\n",
    "In this section, we are going to do several actions to prepare our data for exploratory data analysis and modelling. First, we will import all the necessary libraries, load the dataset using pandas library, preview the data (how many features and records, as well as statistical features), and conduct thorough data preprocessing (checking and removing any missing values and transforming data)"
   ]
  },
  {
   "cell_type": "markdown",
   "metadata": {
    "id": "JM9z2Zjbfy01"
   },
   "source": [
    "Here, we import all the libraries we will use for this project and load the data into a pandas dataframe"
   ]
  },
  {
   "cell_type": "code",
   "execution_count": 77,
   "metadata": {
    "id": "NXm9V1ZLfy01"
   },
   "outputs": [],
   "source": [
    "# Importing libraries.\n",
    "import pandas as pd\n",
    "import numpy as np\n",
    "import seaborn as sns\n",
    "from matplotlib import pyplot as plt\n",
    "from sklearn.model_selection import train_test_split\n",
    "from sklearn.preprocessing import StandardScaler, OneHotEncoder\n",
    "from sklearn.pipeline import Pipeline\n",
    "from sklearn.linear_model import LogisticRegression\n",
    "from sklearn.neighbors import KNeighborsClassifier\n",
    "from sklearn.tree import DecisionTreeClassifier\n",
    "from sklearn.ensemble import RandomForestClassifier\n",
    "from sklearn.metrics import classification_report, confusion_matrix\n",
    "from imblearn.over_sampling import RandomOverSampler\n",
    "from imblearn.over_sampling import SMOTE\n",
    "from sklearn.metrics import accuracy_score, precision_score, recall_score, f1_score \n",
    "from sklearn.compose import ColumnTransformer\n",
    "from sklearn.pipeline import Pipeline\n",
    "from sklearn.metrics import accuracy_score, classification_report, confusion_matrix, roc_curve, roc_auc_score\n",
    "%matplotlib inline\n",
    "plt.style.use('seaborn-darkgrid')"
   ]
  },
  {
   "cell_type": "code",
   "execution_count": 78,
   "metadata": {
    "id": "_UN0ATvNgTqz"
   },
   "outputs": [],
   "source": [
    "#Loading the data into a pandas dataframe\n",
    "df = pd.read_csv('data/bigml_59c28831336c6604c800002a.csv')"
   ]
  },
  {
   "cell_type": "markdown",
   "metadata": {
    "id": "tqOJT_OCfy02"
   },
   "source": [
    "Afterward, we examine the data to determine the number of features, understand whether we have any missing values, identify columns that need transformation for modelling, and get any other insights we may need before proceeding to the next step"
   ]
  },
  {
   "cell_type": "code",
   "execution_count": 79,
   "metadata": {
    "colab": {
     "base_uri": "https://localhost:8080/"
    },
    "id": "R5jns8Dgfy02",
    "outputId": "f288c4c4-ec82-4544-84ce-5103fda39e19"
   },
   "outputs": [
    {
     "name": "stdout",
     "output_type": "stream",
     "text": [
      "<class 'pandas.core.frame.DataFrame'>\n",
      "RangeIndex: 3333 entries, 0 to 3332\n",
      "Data columns (total 21 columns):\n",
      " #   Column                  Non-Null Count  Dtype  \n",
      "---  ------                  --------------  -----  \n",
      " 0   state                   3333 non-null   object \n",
      " 1   account length          3333 non-null   int64  \n",
      " 2   area code               3333 non-null   int64  \n",
      " 3   phone number            3333 non-null   object \n",
      " 4   international plan      3333 non-null   object \n",
      " 5   voice mail plan         3333 non-null   object \n",
      " 6   number vmail messages   3333 non-null   int64  \n",
      " 7   total day minutes       3333 non-null   float64\n",
      " 8   total day calls         3333 non-null   int64  \n",
      " 9   total day charge        3333 non-null   float64\n",
      " 10  total eve minutes       3333 non-null   float64\n",
      " 11  total eve calls         3333 non-null   int64  \n",
      " 12  total eve charge        3333 non-null   float64\n",
      " 13  total night minutes     3333 non-null   float64\n",
      " 14  total night calls       3333 non-null   int64  \n",
      " 15  total night charge      3333 non-null   float64\n",
      " 16  total intl minutes      3333 non-null   float64\n",
      " 17  total intl calls        3333 non-null   int64  \n",
      " 18  total intl charge       3333 non-null   float64\n",
      " 19  customer service calls  3333 non-null   int64  \n",
      " 20  churn                   3333 non-null   bool   \n",
      "dtypes: bool(1), float64(8), int64(8), object(4)\n",
      "memory usage: 524.2+ KB\n"
     ]
    }
   ],
   "source": [
    "#Checking the general information about the df\n",
    "df.info()"
   ]
  },
  {
   "cell_type": "markdown",
   "metadata": {
    "id": "PwPh76sFfy02"
   },
   "source": [
    "As shown above, we have `3333 data` records and `21 columns`, with zero null values. However, we will need to review the each column further to identify anomalies, especially those in the form of placeholder values or unique characters. `Four (4)` of our columns are of the object type, while `eight (8)` are of integer type, eight `(8)` as floats, and `one (1) column` as bolean.  Our target variable column is churn, which means we will treat the rest of the columns as features.\n",
    "\n",
    "We also need preview the top 10 and top bottom 10  data records to get a glimpse of what we are dealing with."
   ]
  },
  {
   "cell_type": "code",
   "execution_count": 80,
   "metadata": {
    "colab": {
     "base_uri": "https://localhost:8080/",
     "height": 644
    },
    "id": "tWY_EbEyJhjn",
    "outputId": "e26531e3-5fa7-4174-d288-aa8750ac7562"
   },
   "outputs": [
    {
     "data": {
      "text/html": [
       "<div>\n",
       "<style scoped>\n",
       "    .dataframe tbody tr th:only-of-type {\n",
       "        vertical-align: middle;\n",
       "    }\n",
       "\n",
       "    .dataframe tbody tr th {\n",
       "        vertical-align: top;\n",
       "    }\n",
       "\n",
       "    .dataframe thead th {\n",
       "        text-align: right;\n",
       "    }\n",
       "</style>\n",
       "<table border=\"1\" class=\"dataframe\">\n",
       "  <thead>\n",
       "    <tr style=\"text-align: right;\">\n",
       "      <th></th>\n",
       "      <th>state</th>\n",
       "      <th>account length</th>\n",
       "      <th>area code</th>\n",
       "      <th>phone number</th>\n",
       "      <th>international plan</th>\n",
       "      <th>voice mail plan</th>\n",
       "      <th>number vmail messages</th>\n",
       "      <th>total day minutes</th>\n",
       "      <th>total day calls</th>\n",
       "      <th>total day charge</th>\n",
       "      <th>...</th>\n",
       "      <th>total eve calls</th>\n",
       "      <th>total eve charge</th>\n",
       "      <th>total night minutes</th>\n",
       "      <th>total night calls</th>\n",
       "      <th>total night charge</th>\n",
       "      <th>total intl minutes</th>\n",
       "      <th>total intl calls</th>\n",
       "      <th>total intl charge</th>\n",
       "      <th>customer service calls</th>\n",
       "      <th>churn</th>\n",
       "    </tr>\n",
       "  </thead>\n",
       "  <tbody>\n",
       "    <tr>\n",
       "      <th>0</th>\n",
       "      <td>KS</td>\n",
       "      <td>128</td>\n",
       "      <td>415</td>\n",
       "      <td>382-4657</td>\n",
       "      <td>no</td>\n",
       "      <td>yes</td>\n",
       "      <td>25</td>\n",
       "      <td>265.1</td>\n",
       "      <td>110</td>\n",
       "      <td>45.07</td>\n",
       "      <td>...</td>\n",
       "      <td>99</td>\n",
       "      <td>16.78</td>\n",
       "      <td>244.7</td>\n",
       "      <td>91</td>\n",
       "      <td>11.01</td>\n",
       "      <td>10.0</td>\n",
       "      <td>3</td>\n",
       "      <td>2.70</td>\n",
       "      <td>1</td>\n",
       "      <td>False</td>\n",
       "    </tr>\n",
       "    <tr>\n",
       "      <th>1</th>\n",
       "      <td>OH</td>\n",
       "      <td>107</td>\n",
       "      <td>415</td>\n",
       "      <td>371-7191</td>\n",
       "      <td>no</td>\n",
       "      <td>yes</td>\n",
       "      <td>26</td>\n",
       "      <td>161.6</td>\n",
       "      <td>123</td>\n",
       "      <td>27.47</td>\n",
       "      <td>...</td>\n",
       "      <td>103</td>\n",
       "      <td>16.62</td>\n",
       "      <td>254.4</td>\n",
       "      <td>103</td>\n",
       "      <td>11.45</td>\n",
       "      <td>13.7</td>\n",
       "      <td>3</td>\n",
       "      <td>3.70</td>\n",
       "      <td>1</td>\n",
       "      <td>False</td>\n",
       "    </tr>\n",
       "    <tr>\n",
       "      <th>2</th>\n",
       "      <td>NJ</td>\n",
       "      <td>137</td>\n",
       "      <td>415</td>\n",
       "      <td>358-1921</td>\n",
       "      <td>no</td>\n",
       "      <td>no</td>\n",
       "      <td>0</td>\n",
       "      <td>243.4</td>\n",
       "      <td>114</td>\n",
       "      <td>41.38</td>\n",
       "      <td>...</td>\n",
       "      <td>110</td>\n",
       "      <td>10.30</td>\n",
       "      <td>162.6</td>\n",
       "      <td>104</td>\n",
       "      <td>7.32</td>\n",
       "      <td>12.2</td>\n",
       "      <td>5</td>\n",
       "      <td>3.29</td>\n",
       "      <td>0</td>\n",
       "      <td>False</td>\n",
       "    </tr>\n",
       "    <tr>\n",
       "      <th>3</th>\n",
       "      <td>OH</td>\n",
       "      <td>84</td>\n",
       "      <td>408</td>\n",
       "      <td>375-9999</td>\n",
       "      <td>yes</td>\n",
       "      <td>no</td>\n",
       "      <td>0</td>\n",
       "      <td>299.4</td>\n",
       "      <td>71</td>\n",
       "      <td>50.90</td>\n",
       "      <td>...</td>\n",
       "      <td>88</td>\n",
       "      <td>5.26</td>\n",
       "      <td>196.9</td>\n",
       "      <td>89</td>\n",
       "      <td>8.86</td>\n",
       "      <td>6.6</td>\n",
       "      <td>7</td>\n",
       "      <td>1.78</td>\n",
       "      <td>2</td>\n",
       "      <td>False</td>\n",
       "    </tr>\n",
       "    <tr>\n",
       "      <th>4</th>\n",
       "      <td>OK</td>\n",
       "      <td>75</td>\n",
       "      <td>415</td>\n",
       "      <td>330-6626</td>\n",
       "      <td>yes</td>\n",
       "      <td>no</td>\n",
       "      <td>0</td>\n",
       "      <td>166.7</td>\n",
       "      <td>113</td>\n",
       "      <td>28.34</td>\n",
       "      <td>...</td>\n",
       "      <td>122</td>\n",
       "      <td>12.61</td>\n",
       "      <td>186.9</td>\n",
       "      <td>121</td>\n",
       "      <td>8.41</td>\n",
       "      <td>10.1</td>\n",
       "      <td>3</td>\n",
       "      <td>2.73</td>\n",
       "      <td>3</td>\n",
       "      <td>False</td>\n",
       "    </tr>\n",
       "    <tr>\n",
       "      <th>5</th>\n",
       "      <td>AL</td>\n",
       "      <td>118</td>\n",
       "      <td>510</td>\n",
       "      <td>391-8027</td>\n",
       "      <td>yes</td>\n",
       "      <td>no</td>\n",
       "      <td>0</td>\n",
       "      <td>223.4</td>\n",
       "      <td>98</td>\n",
       "      <td>37.98</td>\n",
       "      <td>...</td>\n",
       "      <td>101</td>\n",
       "      <td>18.75</td>\n",
       "      <td>203.9</td>\n",
       "      <td>118</td>\n",
       "      <td>9.18</td>\n",
       "      <td>6.3</td>\n",
       "      <td>6</td>\n",
       "      <td>1.70</td>\n",
       "      <td>0</td>\n",
       "      <td>False</td>\n",
       "    </tr>\n",
       "    <tr>\n",
       "      <th>6</th>\n",
       "      <td>MA</td>\n",
       "      <td>121</td>\n",
       "      <td>510</td>\n",
       "      <td>355-9993</td>\n",
       "      <td>no</td>\n",
       "      <td>yes</td>\n",
       "      <td>24</td>\n",
       "      <td>218.2</td>\n",
       "      <td>88</td>\n",
       "      <td>37.09</td>\n",
       "      <td>...</td>\n",
       "      <td>108</td>\n",
       "      <td>29.62</td>\n",
       "      <td>212.6</td>\n",
       "      <td>118</td>\n",
       "      <td>9.57</td>\n",
       "      <td>7.5</td>\n",
       "      <td>7</td>\n",
       "      <td>2.03</td>\n",
       "      <td>3</td>\n",
       "      <td>False</td>\n",
       "    </tr>\n",
       "    <tr>\n",
       "      <th>7</th>\n",
       "      <td>MO</td>\n",
       "      <td>147</td>\n",
       "      <td>415</td>\n",
       "      <td>329-9001</td>\n",
       "      <td>yes</td>\n",
       "      <td>no</td>\n",
       "      <td>0</td>\n",
       "      <td>157.0</td>\n",
       "      <td>79</td>\n",
       "      <td>26.69</td>\n",
       "      <td>...</td>\n",
       "      <td>94</td>\n",
       "      <td>8.76</td>\n",
       "      <td>211.8</td>\n",
       "      <td>96</td>\n",
       "      <td>9.53</td>\n",
       "      <td>7.1</td>\n",
       "      <td>6</td>\n",
       "      <td>1.92</td>\n",
       "      <td>0</td>\n",
       "      <td>False</td>\n",
       "    </tr>\n",
       "    <tr>\n",
       "      <th>8</th>\n",
       "      <td>LA</td>\n",
       "      <td>117</td>\n",
       "      <td>408</td>\n",
       "      <td>335-4719</td>\n",
       "      <td>no</td>\n",
       "      <td>no</td>\n",
       "      <td>0</td>\n",
       "      <td>184.5</td>\n",
       "      <td>97</td>\n",
       "      <td>31.37</td>\n",
       "      <td>...</td>\n",
       "      <td>80</td>\n",
       "      <td>29.89</td>\n",
       "      <td>215.8</td>\n",
       "      <td>90</td>\n",
       "      <td>9.71</td>\n",
       "      <td>8.7</td>\n",
       "      <td>4</td>\n",
       "      <td>2.35</td>\n",
       "      <td>1</td>\n",
       "      <td>False</td>\n",
       "    </tr>\n",
       "    <tr>\n",
       "      <th>9</th>\n",
       "      <td>WV</td>\n",
       "      <td>141</td>\n",
       "      <td>415</td>\n",
       "      <td>330-8173</td>\n",
       "      <td>yes</td>\n",
       "      <td>yes</td>\n",
       "      <td>37</td>\n",
       "      <td>258.6</td>\n",
       "      <td>84</td>\n",
       "      <td>43.96</td>\n",
       "      <td>...</td>\n",
       "      <td>111</td>\n",
       "      <td>18.87</td>\n",
       "      <td>326.4</td>\n",
       "      <td>97</td>\n",
       "      <td>14.69</td>\n",
       "      <td>11.2</td>\n",
       "      <td>5</td>\n",
       "      <td>3.02</td>\n",
       "      <td>0</td>\n",
       "      <td>False</td>\n",
       "    </tr>\n",
       "  </tbody>\n",
       "</table>\n",
       "<p>10 rows × 21 columns</p>\n",
       "</div>"
      ],
      "text/plain": [
       "  state  account length  area code phone number international plan  \\\n",
       "0    KS             128        415     382-4657                 no   \n",
       "1    OH             107        415     371-7191                 no   \n",
       "2    NJ             137        415     358-1921                 no   \n",
       "3    OH              84        408     375-9999                yes   \n",
       "4    OK              75        415     330-6626                yes   \n",
       "5    AL             118        510     391-8027                yes   \n",
       "6    MA             121        510     355-9993                 no   \n",
       "7    MO             147        415     329-9001                yes   \n",
       "8    LA             117        408     335-4719                 no   \n",
       "9    WV             141        415     330-8173                yes   \n",
       "\n",
       "  voice mail plan  number vmail messages  total day minutes  total day calls  \\\n",
       "0             yes                     25              265.1              110   \n",
       "1             yes                     26              161.6              123   \n",
       "2              no                      0              243.4              114   \n",
       "3              no                      0              299.4               71   \n",
       "4              no                      0              166.7              113   \n",
       "5              no                      0              223.4               98   \n",
       "6             yes                     24              218.2               88   \n",
       "7              no                      0              157.0               79   \n",
       "8              no                      0              184.5               97   \n",
       "9             yes                     37              258.6               84   \n",
       "\n",
       "   total day charge  ...  total eve calls  total eve charge  \\\n",
       "0             45.07  ...               99             16.78   \n",
       "1             27.47  ...              103             16.62   \n",
       "2             41.38  ...              110             10.30   \n",
       "3             50.90  ...               88              5.26   \n",
       "4             28.34  ...              122             12.61   \n",
       "5             37.98  ...              101             18.75   \n",
       "6             37.09  ...              108             29.62   \n",
       "7             26.69  ...               94              8.76   \n",
       "8             31.37  ...               80             29.89   \n",
       "9             43.96  ...              111             18.87   \n",
       "\n",
       "   total night minutes  total night calls  total night charge  \\\n",
       "0                244.7                 91               11.01   \n",
       "1                254.4                103               11.45   \n",
       "2                162.6                104                7.32   \n",
       "3                196.9                 89                8.86   \n",
       "4                186.9                121                8.41   \n",
       "5                203.9                118                9.18   \n",
       "6                212.6                118                9.57   \n",
       "7                211.8                 96                9.53   \n",
       "8                215.8                 90                9.71   \n",
       "9                326.4                 97               14.69   \n",
       "\n",
       "   total intl minutes  total intl calls  total intl charge  \\\n",
       "0                10.0                 3               2.70   \n",
       "1                13.7                 3               3.70   \n",
       "2                12.2                 5               3.29   \n",
       "3                 6.6                 7               1.78   \n",
       "4                10.1                 3               2.73   \n",
       "5                 6.3                 6               1.70   \n",
       "6                 7.5                 7               2.03   \n",
       "7                 7.1                 6               1.92   \n",
       "8                 8.7                 4               2.35   \n",
       "9                11.2                 5               3.02   \n",
       "\n",
       "   customer service calls  churn  \n",
       "0                       1  False  \n",
       "1                       1  False  \n",
       "2                       0  False  \n",
       "3                       2  False  \n",
       "4                       3  False  \n",
       "5                       0  False  \n",
       "6                       3  False  \n",
       "7                       0  False  \n",
       "8                       1  False  \n",
       "9                       0  False  \n",
       "\n",
       "[10 rows x 21 columns]"
      ]
     },
     "execution_count": 80,
     "metadata": {},
     "output_type": "execute_result"
    }
   ],
   "source": [
    "# checking to 10 rows\n",
    "df.head(10)"
   ]
  },
  {
   "cell_type": "code",
   "execution_count": 81,
   "metadata": {
    "colab": {
     "base_uri": "https://localhost:8080/",
     "height": 644
    },
    "id": "6Rr_0otefy02",
    "outputId": "d6983811-6246-44ee-f624-5a4fb387ef6b",
    "scrolled": false
   },
   "outputs": [
    {
     "data": {
      "text/html": [
       "<div>\n",
       "<style scoped>\n",
       "    .dataframe tbody tr th:only-of-type {\n",
       "        vertical-align: middle;\n",
       "    }\n",
       "\n",
       "    .dataframe tbody tr th {\n",
       "        vertical-align: top;\n",
       "    }\n",
       "\n",
       "    .dataframe thead th {\n",
       "        text-align: right;\n",
       "    }\n",
       "</style>\n",
       "<table border=\"1\" class=\"dataframe\">\n",
       "  <thead>\n",
       "    <tr style=\"text-align: right;\">\n",
       "      <th></th>\n",
       "      <th>state</th>\n",
       "      <th>account length</th>\n",
       "      <th>area code</th>\n",
       "      <th>phone number</th>\n",
       "      <th>international plan</th>\n",
       "      <th>voice mail plan</th>\n",
       "      <th>number vmail messages</th>\n",
       "      <th>total day minutes</th>\n",
       "      <th>total day calls</th>\n",
       "      <th>total day charge</th>\n",
       "      <th>...</th>\n",
       "      <th>total eve calls</th>\n",
       "      <th>total eve charge</th>\n",
       "      <th>total night minutes</th>\n",
       "      <th>total night calls</th>\n",
       "      <th>total night charge</th>\n",
       "      <th>total intl minutes</th>\n",
       "      <th>total intl calls</th>\n",
       "      <th>total intl charge</th>\n",
       "      <th>customer service calls</th>\n",
       "      <th>churn</th>\n",
       "    </tr>\n",
       "  </thead>\n",
       "  <tbody>\n",
       "    <tr>\n",
       "      <th>3323</th>\n",
       "      <td>IN</td>\n",
       "      <td>117</td>\n",
       "      <td>415</td>\n",
       "      <td>362-5899</td>\n",
       "      <td>no</td>\n",
       "      <td>no</td>\n",
       "      <td>0</td>\n",
       "      <td>118.4</td>\n",
       "      <td>126</td>\n",
       "      <td>20.13</td>\n",
       "      <td>...</td>\n",
       "      <td>97</td>\n",
       "      <td>21.19</td>\n",
       "      <td>227.0</td>\n",
       "      <td>56</td>\n",
       "      <td>10.22</td>\n",
       "      <td>13.6</td>\n",
       "      <td>3</td>\n",
       "      <td>3.67</td>\n",
       "      <td>5</td>\n",
       "      <td>True</td>\n",
       "    </tr>\n",
       "    <tr>\n",
       "      <th>3324</th>\n",
       "      <td>WV</td>\n",
       "      <td>159</td>\n",
       "      <td>415</td>\n",
       "      <td>377-1164</td>\n",
       "      <td>no</td>\n",
       "      <td>no</td>\n",
       "      <td>0</td>\n",
       "      <td>169.8</td>\n",
       "      <td>114</td>\n",
       "      <td>28.87</td>\n",
       "      <td>...</td>\n",
       "      <td>105</td>\n",
       "      <td>16.80</td>\n",
       "      <td>193.7</td>\n",
       "      <td>82</td>\n",
       "      <td>8.72</td>\n",
       "      <td>11.6</td>\n",
       "      <td>4</td>\n",
       "      <td>3.13</td>\n",
       "      <td>1</td>\n",
       "      <td>False</td>\n",
       "    </tr>\n",
       "    <tr>\n",
       "      <th>3325</th>\n",
       "      <td>OH</td>\n",
       "      <td>78</td>\n",
       "      <td>408</td>\n",
       "      <td>368-8555</td>\n",
       "      <td>no</td>\n",
       "      <td>no</td>\n",
       "      <td>0</td>\n",
       "      <td>193.4</td>\n",
       "      <td>99</td>\n",
       "      <td>32.88</td>\n",
       "      <td>...</td>\n",
       "      <td>88</td>\n",
       "      <td>9.94</td>\n",
       "      <td>243.3</td>\n",
       "      <td>109</td>\n",
       "      <td>10.95</td>\n",
       "      <td>9.3</td>\n",
       "      <td>4</td>\n",
       "      <td>2.51</td>\n",
       "      <td>2</td>\n",
       "      <td>False</td>\n",
       "    </tr>\n",
       "    <tr>\n",
       "      <th>3326</th>\n",
       "      <td>OH</td>\n",
       "      <td>96</td>\n",
       "      <td>415</td>\n",
       "      <td>347-6812</td>\n",
       "      <td>no</td>\n",
       "      <td>no</td>\n",
       "      <td>0</td>\n",
       "      <td>106.6</td>\n",
       "      <td>128</td>\n",
       "      <td>18.12</td>\n",
       "      <td>...</td>\n",
       "      <td>87</td>\n",
       "      <td>24.21</td>\n",
       "      <td>178.9</td>\n",
       "      <td>92</td>\n",
       "      <td>8.05</td>\n",
       "      <td>14.9</td>\n",
       "      <td>7</td>\n",
       "      <td>4.02</td>\n",
       "      <td>1</td>\n",
       "      <td>False</td>\n",
       "    </tr>\n",
       "    <tr>\n",
       "      <th>3327</th>\n",
       "      <td>SC</td>\n",
       "      <td>79</td>\n",
       "      <td>415</td>\n",
       "      <td>348-3830</td>\n",
       "      <td>no</td>\n",
       "      <td>no</td>\n",
       "      <td>0</td>\n",
       "      <td>134.7</td>\n",
       "      <td>98</td>\n",
       "      <td>22.90</td>\n",
       "      <td>...</td>\n",
       "      <td>68</td>\n",
       "      <td>16.12</td>\n",
       "      <td>221.4</td>\n",
       "      <td>128</td>\n",
       "      <td>9.96</td>\n",
       "      <td>11.8</td>\n",
       "      <td>5</td>\n",
       "      <td>3.19</td>\n",
       "      <td>2</td>\n",
       "      <td>False</td>\n",
       "    </tr>\n",
       "    <tr>\n",
       "      <th>3328</th>\n",
       "      <td>AZ</td>\n",
       "      <td>192</td>\n",
       "      <td>415</td>\n",
       "      <td>414-4276</td>\n",
       "      <td>no</td>\n",
       "      <td>yes</td>\n",
       "      <td>36</td>\n",
       "      <td>156.2</td>\n",
       "      <td>77</td>\n",
       "      <td>26.55</td>\n",
       "      <td>...</td>\n",
       "      <td>126</td>\n",
       "      <td>18.32</td>\n",
       "      <td>279.1</td>\n",
       "      <td>83</td>\n",
       "      <td>12.56</td>\n",
       "      <td>9.9</td>\n",
       "      <td>6</td>\n",
       "      <td>2.67</td>\n",
       "      <td>2</td>\n",
       "      <td>False</td>\n",
       "    </tr>\n",
       "    <tr>\n",
       "      <th>3329</th>\n",
       "      <td>WV</td>\n",
       "      <td>68</td>\n",
       "      <td>415</td>\n",
       "      <td>370-3271</td>\n",
       "      <td>no</td>\n",
       "      <td>no</td>\n",
       "      <td>0</td>\n",
       "      <td>231.1</td>\n",
       "      <td>57</td>\n",
       "      <td>39.29</td>\n",
       "      <td>...</td>\n",
       "      <td>55</td>\n",
       "      <td>13.04</td>\n",
       "      <td>191.3</td>\n",
       "      <td>123</td>\n",
       "      <td>8.61</td>\n",
       "      <td>9.6</td>\n",
       "      <td>4</td>\n",
       "      <td>2.59</td>\n",
       "      <td>3</td>\n",
       "      <td>False</td>\n",
       "    </tr>\n",
       "    <tr>\n",
       "      <th>3330</th>\n",
       "      <td>RI</td>\n",
       "      <td>28</td>\n",
       "      <td>510</td>\n",
       "      <td>328-8230</td>\n",
       "      <td>no</td>\n",
       "      <td>no</td>\n",
       "      <td>0</td>\n",
       "      <td>180.8</td>\n",
       "      <td>109</td>\n",
       "      <td>30.74</td>\n",
       "      <td>...</td>\n",
       "      <td>58</td>\n",
       "      <td>24.55</td>\n",
       "      <td>191.9</td>\n",
       "      <td>91</td>\n",
       "      <td>8.64</td>\n",
       "      <td>14.1</td>\n",
       "      <td>6</td>\n",
       "      <td>3.81</td>\n",
       "      <td>2</td>\n",
       "      <td>False</td>\n",
       "    </tr>\n",
       "    <tr>\n",
       "      <th>3331</th>\n",
       "      <td>CT</td>\n",
       "      <td>184</td>\n",
       "      <td>510</td>\n",
       "      <td>364-6381</td>\n",
       "      <td>yes</td>\n",
       "      <td>no</td>\n",
       "      <td>0</td>\n",
       "      <td>213.8</td>\n",
       "      <td>105</td>\n",
       "      <td>36.35</td>\n",
       "      <td>...</td>\n",
       "      <td>84</td>\n",
       "      <td>13.57</td>\n",
       "      <td>139.2</td>\n",
       "      <td>137</td>\n",
       "      <td>6.26</td>\n",
       "      <td>5.0</td>\n",
       "      <td>10</td>\n",
       "      <td>1.35</td>\n",
       "      <td>2</td>\n",
       "      <td>False</td>\n",
       "    </tr>\n",
       "    <tr>\n",
       "      <th>3332</th>\n",
       "      <td>TN</td>\n",
       "      <td>74</td>\n",
       "      <td>415</td>\n",
       "      <td>400-4344</td>\n",
       "      <td>no</td>\n",
       "      <td>yes</td>\n",
       "      <td>25</td>\n",
       "      <td>234.4</td>\n",
       "      <td>113</td>\n",
       "      <td>39.85</td>\n",
       "      <td>...</td>\n",
       "      <td>82</td>\n",
       "      <td>22.60</td>\n",
       "      <td>241.4</td>\n",
       "      <td>77</td>\n",
       "      <td>10.86</td>\n",
       "      <td>13.7</td>\n",
       "      <td>4</td>\n",
       "      <td>3.70</td>\n",
       "      <td>0</td>\n",
       "      <td>False</td>\n",
       "    </tr>\n",
       "  </tbody>\n",
       "</table>\n",
       "<p>10 rows × 21 columns</p>\n",
       "</div>"
      ],
      "text/plain": [
       "     state  account length  area code phone number international plan  \\\n",
       "3323    IN             117        415     362-5899                 no   \n",
       "3324    WV             159        415     377-1164                 no   \n",
       "3325    OH              78        408     368-8555                 no   \n",
       "3326    OH              96        415     347-6812                 no   \n",
       "3327    SC              79        415     348-3830                 no   \n",
       "3328    AZ             192        415     414-4276                 no   \n",
       "3329    WV              68        415     370-3271                 no   \n",
       "3330    RI              28        510     328-8230                 no   \n",
       "3331    CT             184        510     364-6381                yes   \n",
       "3332    TN              74        415     400-4344                 no   \n",
       "\n",
       "     voice mail plan  number vmail messages  total day minutes  \\\n",
       "3323              no                      0              118.4   \n",
       "3324              no                      0              169.8   \n",
       "3325              no                      0              193.4   \n",
       "3326              no                      0              106.6   \n",
       "3327              no                      0              134.7   \n",
       "3328             yes                     36              156.2   \n",
       "3329              no                      0              231.1   \n",
       "3330              no                      0              180.8   \n",
       "3331              no                      0              213.8   \n",
       "3332             yes                     25              234.4   \n",
       "\n",
       "      total day calls  total day charge  ...  total eve calls  \\\n",
       "3323              126             20.13  ...               97   \n",
       "3324              114             28.87  ...              105   \n",
       "3325               99             32.88  ...               88   \n",
       "3326              128             18.12  ...               87   \n",
       "3327               98             22.90  ...               68   \n",
       "3328               77             26.55  ...              126   \n",
       "3329               57             39.29  ...               55   \n",
       "3330              109             30.74  ...               58   \n",
       "3331              105             36.35  ...               84   \n",
       "3332              113             39.85  ...               82   \n",
       "\n",
       "      total eve charge  total night minutes  total night calls  \\\n",
       "3323             21.19                227.0                 56   \n",
       "3324             16.80                193.7                 82   \n",
       "3325              9.94                243.3                109   \n",
       "3326             24.21                178.9                 92   \n",
       "3327             16.12                221.4                128   \n",
       "3328             18.32                279.1                 83   \n",
       "3329             13.04                191.3                123   \n",
       "3330             24.55                191.9                 91   \n",
       "3331             13.57                139.2                137   \n",
       "3332             22.60                241.4                 77   \n",
       "\n",
       "      total night charge  total intl minutes  total intl calls  \\\n",
       "3323               10.22                13.6                 3   \n",
       "3324                8.72                11.6                 4   \n",
       "3325               10.95                 9.3                 4   \n",
       "3326                8.05                14.9                 7   \n",
       "3327                9.96                11.8                 5   \n",
       "3328               12.56                 9.9                 6   \n",
       "3329                8.61                 9.6                 4   \n",
       "3330                8.64                14.1                 6   \n",
       "3331                6.26                 5.0                10   \n",
       "3332               10.86                13.7                 4   \n",
       "\n",
       "      total intl charge  customer service calls  churn  \n",
       "3323               3.67                       5   True  \n",
       "3324               3.13                       1  False  \n",
       "3325               2.51                       2  False  \n",
       "3326               4.02                       1  False  \n",
       "3327               3.19                       2  False  \n",
       "3328               2.67                       2  False  \n",
       "3329               2.59                       3  False  \n",
       "3330               3.81                       2  False  \n",
       "3331               1.35                       2  False  \n",
       "3332               3.70                       0  False  \n",
       "\n",
       "[10 rows x 21 columns]"
      ]
     },
     "execution_count": 81,
     "metadata": {},
     "output_type": "execute_result"
    }
   ],
   "source": [
    "# Previewing the top 10 rows\n",
    "df.tail(10)"
   ]
  },
  {
   "cell_type": "markdown",
   "metadata": {
    "id": "vY92JxtrIpX-"
   },
   "source": [
    "From above general information, most of the columns have 2 or more words as the columns names. We need to remove the whitespaces so as to make the column names easily addressible. We need to rename the column names by removing white spaces and replacing with underscore '_'"
   ]
  },
  {
   "cell_type": "code",
   "execution_count": 82,
   "metadata": {
    "id": "Nudx_t5eI6dI"
   },
   "outputs": [],
   "source": [
    "# Removing whitespaces in the column name and replacing with '_'\n",
    "df.columns = df.columns.str.replace(' ', '_')"
   ]
  },
  {
   "cell_type": "code",
   "execution_count": 83,
   "metadata": {
    "colab": {
     "base_uri": "https://localhost:8080/",
     "height": 456
    },
    "id": "zLU_z1GJfy03",
    "outputId": "f644d82e-0ad2-4193-9545-f5576f01fdc1"
   },
   "outputs": [
    {
     "data": {
      "text/html": [
       "<div>\n",
       "<style scoped>\n",
       "    .dataframe tbody tr th:only-of-type {\n",
       "        vertical-align: middle;\n",
       "    }\n",
       "\n",
       "    .dataframe tbody tr th {\n",
       "        vertical-align: top;\n",
       "    }\n",
       "\n",
       "    .dataframe thead th {\n",
       "        text-align: right;\n",
       "    }\n",
       "</style>\n",
       "<table border=\"1\" class=\"dataframe\">\n",
       "  <thead>\n",
       "    <tr style=\"text-align: right;\">\n",
       "      <th></th>\n",
       "      <th>state</th>\n",
       "      <th>account_length</th>\n",
       "      <th>area_code</th>\n",
       "      <th>phone_number</th>\n",
       "      <th>international_plan</th>\n",
       "      <th>voice_mail_plan</th>\n",
       "      <th>number_vmail_messages</th>\n",
       "      <th>total_day_minutes</th>\n",
       "      <th>total_day_calls</th>\n",
       "      <th>total_day_charge</th>\n",
       "      <th>...</th>\n",
       "      <th>total_eve_calls</th>\n",
       "      <th>total_eve_charge</th>\n",
       "      <th>total_night_minutes</th>\n",
       "      <th>total_night_calls</th>\n",
       "      <th>total_night_charge</th>\n",
       "      <th>total_intl_minutes</th>\n",
       "      <th>total_intl_calls</th>\n",
       "      <th>total_intl_charge</th>\n",
       "      <th>customer_service_calls</th>\n",
       "      <th>churn</th>\n",
       "    </tr>\n",
       "  </thead>\n",
       "  <tbody>\n",
       "    <tr>\n",
       "      <th>0</th>\n",
       "      <td>KS</td>\n",
       "      <td>128</td>\n",
       "      <td>415</td>\n",
       "      <td>382-4657</td>\n",
       "      <td>no</td>\n",
       "      <td>yes</td>\n",
       "      <td>25</td>\n",
       "      <td>265.1</td>\n",
       "      <td>110</td>\n",
       "      <td>45.07</td>\n",
       "      <td>...</td>\n",
       "      <td>99</td>\n",
       "      <td>16.78</td>\n",
       "      <td>244.7</td>\n",
       "      <td>91</td>\n",
       "      <td>11.01</td>\n",
       "      <td>10.0</td>\n",
       "      <td>3</td>\n",
       "      <td>2.70</td>\n",
       "      <td>1</td>\n",
       "      <td>False</td>\n",
       "    </tr>\n",
       "    <tr>\n",
       "      <th>1</th>\n",
       "      <td>OH</td>\n",
       "      <td>107</td>\n",
       "      <td>415</td>\n",
       "      <td>371-7191</td>\n",
       "      <td>no</td>\n",
       "      <td>yes</td>\n",
       "      <td>26</td>\n",
       "      <td>161.6</td>\n",
       "      <td>123</td>\n",
       "      <td>27.47</td>\n",
       "      <td>...</td>\n",
       "      <td>103</td>\n",
       "      <td>16.62</td>\n",
       "      <td>254.4</td>\n",
       "      <td>103</td>\n",
       "      <td>11.45</td>\n",
       "      <td>13.7</td>\n",
       "      <td>3</td>\n",
       "      <td>3.70</td>\n",
       "      <td>1</td>\n",
       "      <td>False</td>\n",
       "    </tr>\n",
       "    <tr>\n",
       "      <th>2</th>\n",
       "      <td>NJ</td>\n",
       "      <td>137</td>\n",
       "      <td>415</td>\n",
       "      <td>358-1921</td>\n",
       "      <td>no</td>\n",
       "      <td>no</td>\n",
       "      <td>0</td>\n",
       "      <td>243.4</td>\n",
       "      <td>114</td>\n",
       "      <td>41.38</td>\n",
       "      <td>...</td>\n",
       "      <td>110</td>\n",
       "      <td>10.30</td>\n",
       "      <td>162.6</td>\n",
       "      <td>104</td>\n",
       "      <td>7.32</td>\n",
       "      <td>12.2</td>\n",
       "      <td>5</td>\n",
       "      <td>3.29</td>\n",
       "      <td>0</td>\n",
       "      <td>False</td>\n",
       "    </tr>\n",
       "    <tr>\n",
       "      <th>3</th>\n",
       "      <td>OH</td>\n",
       "      <td>84</td>\n",
       "      <td>408</td>\n",
       "      <td>375-9999</td>\n",
       "      <td>yes</td>\n",
       "      <td>no</td>\n",
       "      <td>0</td>\n",
       "      <td>299.4</td>\n",
       "      <td>71</td>\n",
       "      <td>50.90</td>\n",
       "      <td>...</td>\n",
       "      <td>88</td>\n",
       "      <td>5.26</td>\n",
       "      <td>196.9</td>\n",
       "      <td>89</td>\n",
       "      <td>8.86</td>\n",
       "      <td>6.6</td>\n",
       "      <td>7</td>\n",
       "      <td>1.78</td>\n",
       "      <td>2</td>\n",
       "      <td>False</td>\n",
       "    </tr>\n",
       "    <tr>\n",
       "      <th>4</th>\n",
       "      <td>OK</td>\n",
       "      <td>75</td>\n",
       "      <td>415</td>\n",
       "      <td>330-6626</td>\n",
       "      <td>yes</td>\n",
       "      <td>no</td>\n",
       "      <td>0</td>\n",
       "      <td>166.7</td>\n",
       "      <td>113</td>\n",
       "      <td>28.34</td>\n",
       "      <td>...</td>\n",
       "      <td>122</td>\n",
       "      <td>12.61</td>\n",
       "      <td>186.9</td>\n",
       "      <td>121</td>\n",
       "      <td>8.41</td>\n",
       "      <td>10.1</td>\n",
       "      <td>3</td>\n",
       "      <td>2.73</td>\n",
       "      <td>3</td>\n",
       "      <td>False</td>\n",
       "    </tr>\n",
       "    <tr>\n",
       "      <th>5</th>\n",
       "      <td>AL</td>\n",
       "      <td>118</td>\n",
       "      <td>510</td>\n",
       "      <td>391-8027</td>\n",
       "      <td>yes</td>\n",
       "      <td>no</td>\n",
       "      <td>0</td>\n",
       "      <td>223.4</td>\n",
       "      <td>98</td>\n",
       "      <td>37.98</td>\n",
       "      <td>...</td>\n",
       "      <td>101</td>\n",
       "      <td>18.75</td>\n",
       "      <td>203.9</td>\n",
       "      <td>118</td>\n",
       "      <td>9.18</td>\n",
       "      <td>6.3</td>\n",
       "      <td>6</td>\n",
       "      <td>1.70</td>\n",
       "      <td>0</td>\n",
       "      <td>False</td>\n",
       "    </tr>\n",
       "    <tr>\n",
       "      <th>6</th>\n",
       "      <td>MA</td>\n",
       "      <td>121</td>\n",
       "      <td>510</td>\n",
       "      <td>355-9993</td>\n",
       "      <td>no</td>\n",
       "      <td>yes</td>\n",
       "      <td>24</td>\n",
       "      <td>218.2</td>\n",
       "      <td>88</td>\n",
       "      <td>37.09</td>\n",
       "      <td>...</td>\n",
       "      <td>108</td>\n",
       "      <td>29.62</td>\n",
       "      <td>212.6</td>\n",
       "      <td>118</td>\n",
       "      <td>9.57</td>\n",
       "      <td>7.5</td>\n",
       "      <td>7</td>\n",
       "      <td>2.03</td>\n",
       "      <td>3</td>\n",
       "      <td>False</td>\n",
       "    </tr>\n",
       "    <tr>\n",
       "      <th>7</th>\n",
       "      <td>MO</td>\n",
       "      <td>147</td>\n",
       "      <td>415</td>\n",
       "      <td>329-9001</td>\n",
       "      <td>yes</td>\n",
       "      <td>no</td>\n",
       "      <td>0</td>\n",
       "      <td>157.0</td>\n",
       "      <td>79</td>\n",
       "      <td>26.69</td>\n",
       "      <td>...</td>\n",
       "      <td>94</td>\n",
       "      <td>8.76</td>\n",
       "      <td>211.8</td>\n",
       "      <td>96</td>\n",
       "      <td>9.53</td>\n",
       "      <td>7.1</td>\n",
       "      <td>6</td>\n",
       "      <td>1.92</td>\n",
       "      <td>0</td>\n",
       "      <td>False</td>\n",
       "    </tr>\n",
       "    <tr>\n",
       "      <th>8</th>\n",
       "      <td>LA</td>\n",
       "      <td>117</td>\n",
       "      <td>408</td>\n",
       "      <td>335-4719</td>\n",
       "      <td>no</td>\n",
       "      <td>no</td>\n",
       "      <td>0</td>\n",
       "      <td>184.5</td>\n",
       "      <td>97</td>\n",
       "      <td>31.37</td>\n",
       "      <td>...</td>\n",
       "      <td>80</td>\n",
       "      <td>29.89</td>\n",
       "      <td>215.8</td>\n",
       "      <td>90</td>\n",
       "      <td>9.71</td>\n",
       "      <td>8.7</td>\n",
       "      <td>4</td>\n",
       "      <td>2.35</td>\n",
       "      <td>1</td>\n",
       "      <td>False</td>\n",
       "    </tr>\n",
       "    <tr>\n",
       "      <th>9</th>\n",
       "      <td>WV</td>\n",
       "      <td>141</td>\n",
       "      <td>415</td>\n",
       "      <td>330-8173</td>\n",
       "      <td>yes</td>\n",
       "      <td>yes</td>\n",
       "      <td>37</td>\n",
       "      <td>258.6</td>\n",
       "      <td>84</td>\n",
       "      <td>43.96</td>\n",
       "      <td>...</td>\n",
       "      <td>111</td>\n",
       "      <td>18.87</td>\n",
       "      <td>326.4</td>\n",
       "      <td>97</td>\n",
       "      <td>14.69</td>\n",
       "      <td>11.2</td>\n",
       "      <td>5</td>\n",
       "      <td>3.02</td>\n",
       "      <td>0</td>\n",
       "      <td>False</td>\n",
       "    </tr>\n",
       "  </tbody>\n",
       "</table>\n",
       "<p>10 rows × 21 columns</p>\n",
       "</div>"
      ],
      "text/plain": [
       "  state  account_length  area_code phone_number international_plan  \\\n",
       "0    KS             128        415     382-4657                 no   \n",
       "1    OH             107        415     371-7191                 no   \n",
       "2    NJ             137        415     358-1921                 no   \n",
       "3    OH              84        408     375-9999                yes   \n",
       "4    OK              75        415     330-6626                yes   \n",
       "5    AL             118        510     391-8027                yes   \n",
       "6    MA             121        510     355-9993                 no   \n",
       "7    MO             147        415     329-9001                yes   \n",
       "8    LA             117        408     335-4719                 no   \n",
       "9    WV             141        415     330-8173                yes   \n",
       "\n",
       "  voice_mail_plan  number_vmail_messages  total_day_minutes  total_day_calls  \\\n",
       "0             yes                     25              265.1              110   \n",
       "1             yes                     26              161.6              123   \n",
       "2              no                      0              243.4              114   \n",
       "3              no                      0              299.4               71   \n",
       "4              no                      0              166.7              113   \n",
       "5              no                      0              223.4               98   \n",
       "6             yes                     24              218.2               88   \n",
       "7              no                      0              157.0               79   \n",
       "8              no                      0              184.5               97   \n",
       "9             yes                     37              258.6               84   \n",
       "\n",
       "   total_day_charge  ...  total_eve_calls  total_eve_charge  \\\n",
       "0             45.07  ...               99             16.78   \n",
       "1             27.47  ...              103             16.62   \n",
       "2             41.38  ...              110             10.30   \n",
       "3             50.90  ...               88              5.26   \n",
       "4             28.34  ...              122             12.61   \n",
       "5             37.98  ...              101             18.75   \n",
       "6             37.09  ...              108             29.62   \n",
       "7             26.69  ...               94              8.76   \n",
       "8             31.37  ...               80             29.89   \n",
       "9             43.96  ...              111             18.87   \n",
       "\n",
       "   total_night_minutes  total_night_calls  total_night_charge  \\\n",
       "0                244.7                 91               11.01   \n",
       "1                254.4                103               11.45   \n",
       "2                162.6                104                7.32   \n",
       "3                196.9                 89                8.86   \n",
       "4                186.9                121                8.41   \n",
       "5                203.9                118                9.18   \n",
       "6                212.6                118                9.57   \n",
       "7                211.8                 96                9.53   \n",
       "8                215.8                 90                9.71   \n",
       "9                326.4                 97               14.69   \n",
       "\n",
       "   total_intl_minutes  total_intl_calls  total_intl_charge  \\\n",
       "0                10.0                 3               2.70   \n",
       "1                13.7                 3               3.70   \n",
       "2                12.2                 5               3.29   \n",
       "3                 6.6                 7               1.78   \n",
       "4                10.1                 3               2.73   \n",
       "5                 6.3                 6               1.70   \n",
       "6                 7.5                 7               2.03   \n",
       "7                 7.1                 6               1.92   \n",
       "8                 8.7                 4               2.35   \n",
       "9                11.2                 5               3.02   \n",
       "\n",
       "   customer_service_calls  churn  \n",
       "0                       1  False  \n",
       "1                       1  False  \n",
       "2                       0  False  \n",
       "3                       2  False  \n",
       "4                       3  False  \n",
       "5                       0  False  \n",
       "6                       3  False  \n",
       "7                       0  False  \n",
       "8                       1  False  \n",
       "9                       0  False  \n",
       "\n",
       "[10 rows x 21 columns]"
      ]
     },
     "execution_count": 83,
     "metadata": {},
     "output_type": "execute_result"
    }
   ],
   "source": [
    "# previewing the bottom 10 rows to confirm the columns names have bee formated\n",
    "df.head(10)"
   ]
  },
  {
   "cell_type": "code",
   "execution_count": 84,
   "metadata": {
    "colab": {
     "base_uri": "https://localhost:8080/"
    },
    "id": "p67hk_pUh_9i",
    "outputId": "db38ab23-bc37-4f74-80f8-d6452cbefa83"
   },
   "outputs": [
    {
     "data": {
      "text/plain": [
       "(3333, 21)"
      ]
     },
     "execution_count": 84,
     "metadata": {},
     "output_type": "execute_result"
    }
   ],
   "source": [
    "# checking for the general shape of the df\n",
    "df.shape"
   ]
  },
  {
   "cell_type": "markdown",
   "metadata": {
    "id": "imwSu4KeiXxT"
   },
   "source": [
    "As previously confirmed, the df has 33333 rows and 21 columns"
   ]
  },
  {
   "cell_type": "code",
   "execution_count": 85,
   "metadata": {
    "colab": {
     "base_uri": "https://localhost:8080/",
     "height": 364
    },
    "id": "C6SFZ22Efy03",
    "outputId": "88cfa7dc-284d-49dc-f743-e938f6fcc809"
   },
   "outputs": [
    {
     "data": {
      "text/html": [
       "<div>\n",
       "<style scoped>\n",
       "    .dataframe tbody tr th:only-of-type {\n",
       "        vertical-align: middle;\n",
       "    }\n",
       "\n",
       "    .dataframe tbody tr th {\n",
       "        vertical-align: top;\n",
       "    }\n",
       "\n",
       "    .dataframe thead th {\n",
       "        text-align: right;\n",
       "    }\n",
       "</style>\n",
       "<table border=\"1\" class=\"dataframe\">\n",
       "  <thead>\n",
       "    <tr style=\"text-align: right;\">\n",
       "      <th></th>\n",
       "      <th>account_length</th>\n",
       "      <th>area_code</th>\n",
       "      <th>number_vmail_messages</th>\n",
       "      <th>total_day_minutes</th>\n",
       "      <th>total_day_calls</th>\n",
       "      <th>total_day_charge</th>\n",
       "      <th>total_eve_minutes</th>\n",
       "      <th>total_eve_calls</th>\n",
       "      <th>total_eve_charge</th>\n",
       "      <th>total_night_minutes</th>\n",
       "      <th>total_night_calls</th>\n",
       "      <th>total_night_charge</th>\n",
       "      <th>total_intl_minutes</th>\n",
       "      <th>total_intl_calls</th>\n",
       "      <th>total_intl_charge</th>\n",
       "      <th>customer_service_calls</th>\n",
       "    </tr>\n",
       "  </thead>\n",
       "  <tbody>\n",
       "    <tr>\n",
       "      <th>count</th>\n",
       "      <td>3333.000000</td>\n",
       "      <td>3333.000000</td>\n",
       "      <td>3333.000000</td>\n",
       "      <td>3333.000000</td>\n",
       "      <td>3333.000000</td>\n",
       "      <td>3333.000000</td>\n",
       "      <td>3333.000000</td>\n",
       "      <td>3333.000000</td>\n",
       "      <td>3333.000000</td>\n",
       "      <td>3333.000000</td>\n",
       "      <td>3333.000000</td>\n",
       "      <td>3333.000000</td>\n",
       "      <td>3333.000000</td>\n",
       "      <td>3333.000000</td>\n",
       "      <td>3333.000000</td>\n",
       "      <td>3333.000000</td>\n",
       "    </tr>\n",
       "    <tr>\n",
       "      <th>mean</th>\n",
       "      <td>101.064806</td>\n",
       "      <td>437.182418</td>\n",
       "      <td>8.099010</td>\n",
       "      <td>179.775098</td>\n",
       "      <td>100.435644</td>\n",
       "      <td>30.562307</td>\n",
       "      <td>200.980348</td>\n",
       "      <td>100.114311</td>\n",
       "      <td>17.083540</td>\n",
       "      <td>200.872037</td>\n",
       "      <td>100.107711</td>\n",
       "      <td>9.039325</td>\n",
       "      <td>10.237294</td>\n",
       "      <td>4.479448</td>\n",
       "      <td>2.764581</td>\n",
       "      <td>1.562856</td>\n",
       "    </tr>\n",
       "    <tr>\n",
       "      <th>std</th>\n",
       "      <td>39.822106</td>\n",
       "      <td>42.371290</td>\n",
       "      <td>13.688365</td>\n",
       "      <td>54.467389</td>\n",
       "      <td>20.069084</td>\n",
       "      <td>9.259435</td>\n",
       "      <td>50.713844</td>\n",
       "      <td>19.922625</td>\n",
       "      <td>4.310668</td>\n",
       "      <td>50.573847</td>\n",
       "      <td>19.568609</td>\n",
       "      <td>2.275873</td>\n",
       "      <td>2.791840</td>\n",
       "      <td>2.461214</td>\n",
       "      <td>0.753773</td>\n",
       "      <td>1.315491</td>\n",
       "    </tr>\n",
       "    <tr>\n",
       "      <th>min</th>\n",
       "      <td>1.000000</td>\n",
       "      <td>408.000000</td>\n",
       "      <td>0.000000</td>\n",
       "      <td>0.000000</td>\n",
       "      <td>0.000000</td>\n",
       "      <td>0.000000</td>\n",
       "      <td>0.000000</td>\n",
       "      <td>0.000000</td>\n",
       "      <td>0.000000</td>\n",
       "      <td>23.200000</td>\n",
       "      <td>33.000000</td>\n",
       "      <td>1.040000</td>\n",
       "      <td>0.000000</td>\n",
       "      <td>0.000000</td>\n",
       "      <td>0.000000</td>\n",
       "      <td>0.000000</td>\n",
       "    </tr>\n",
       "    <tr>\n",
       "      <th>25%</th>\n",
       "      <td>74.000000</td>\n",
       "      <td>408.000000</td>\n",
       "      <td>0.000000</td>\n",
       "      <td>143.700000</td>\n",
       "      <td>87.000000</td>\n",
       "      <td>24.430000</td>\n",
       "      <td>166.600000</td>\n",
       "      <td>87.000000</td>\n",
       "      <td>14.160000</td>\n",
       "      <td>167.000000</td>\n",
       "      <td>87.000000</td>\n",
       "      <td>7.520000</td>\n",
       "      <td>8.500000</td>\n",
       "      <td>3.000000</td>\n",
       "      <td>2.300000</td>\n",
       "      <td>1.000000</td>\n",
       "    </tr>\n",
       "    <tr>\n",
       "      <th>50%</th>\n",
       "      <td>101.000000</td>\n",
       "      <td>415.000000</td>\n",
       "      <td>0.000000</td>\n",
       "      <td>179.400000</td>\n",
       "      <td>101.000000</td>\n",
       "      <td>30.500000</td>\n",
       "      <td>201.400000</td>\n",
       "      <td>100.000000</td>\n",
       "      <td>17.120000</td>\n",
       "      <td>201.200000</td>\n",
       "      <td>100.000000</td>\n",
       "      <td>9.050000</td>\n",
       "      <td>10.300000</td>\n",
       "      <td>4.000000</td>\n",
       "      <td>2.780000</td>\n",
       "      <td>1.000000</td>\n",
       "    </tr>\n",
       "    <tr>\n",
       "      <th>75%</th>\n",
       "      <td>127.000000</td>\n",
       "      <td>510.000000</td>\n",
       "      <td>20.000000</td>\n",
       "      <td>216.400000</td>\n",
       "      <td>114.000000</td>\n",
       "      <td>36.790000</td>\n",
       "      <td>235.300000</td>\n",
       "      <td>114.000000</td>\n",
       "      <td>20.000000</td>\n",
       "      <td>235.300000</td>\n",
       "      <td>113.000000</td>\n",
       "      <td>10.590000</td>\n",
       "      <td>12.100000</td>\n",
       "      <td>6.000000</td>\n",
       "      <td>3.270000</td>\n",
       "      <td>2.000000</td>\n",
       "    </tr>\n",
       "    <tr>\n",
       "      <th>max</th>\n",
       "      <td>243.000000</td>\n",
       "      <td>510.000000</td>\n",
       "      <td>51.000000</td>\n",
       "      <td>350.800000</td>\n",
       "      <td>165.000000</td>\n",
       "      <td>59.640000</td>\n",
       "      <td>363.700000</td>\n",
       "      <td>170.000000</td>\n",
       "      <td>30.910000</td>\n",
       "      <td>395.000000</td>\n",
       "      <td>175.000000</td>\n",
       "      <td>17.770000</td>\n",
       "      <td>20.000000</td>\n",
       "      <td>20.000000</td>\n",
       "      <td>5.400000</td>\n",
       "      <td>9.000000</td>\n",
       "    </tr>\n",
       "  </tbody>\n",
       "</table>\n",
       "</div>"
      ],
      "text/plain": [
       "       account_length    area_code  number_vmail_messages  total_day_minutes  \\\n",
       "count     3333.000000  3333.000000            3333.000000        3333.000000   \n",
       "mean       101.064806   437.182418               8.099010         179.775098   \n",
       "std         39.822106    42.371290              13.688365          54.467389   \n",
       "min          1.000000   408.000000               0.000000           0.000000   \n",
       "25%         74.000000   408.000000               0.000000         143.700000   \n",
       "50%        101.000000   415.000000               0.000000         179.400000   \n",
       "75%        127.000000   510.000000              20.000000         216.400000   \n",
       "max        243.000000   510.000000              51.000000         350.800000   \n",
       "\n",
       "       total_day_calls  total_day_charge  total_eve_minutes  total_eve_calls  \\\n",
       "count      3333.000000       3333.000000        3333.000000      3333.000000   \n",
       "mean        100.435644         30.562307         200.980348       100.114311   \n",
       "std          20.069084          9.259435          50.713844        19.922625   \n",
       "min           0.000000          0.000000           0.000000         0.000000   \n",
       "25%          87.000000         24.430000         166.600000        87.000000   \n",
       "50%         101.000000         30.500000         201.400000       100.000000   \n",
       "75%         114.000000         36.790000         235.300000       114.000000   \n",
       "max         165.000000         59.640000         363.700000       170.000000   \n",
       "\n",
       "       total_eve_charge  total_night_minutes  total_night_calls  \\\n",
       "count       3333.000000          3333.000000        3333.000000   \n",
       "mean          17.083540           200.872037         100.107711   \n",
       "std            4.310668            50.573847          19.568609   \n",
       "min            0.000000            23.200000          33.000000   \n",
       "25%           14.160000           167.000000          87.000000   \n",
       "50%           17.120000           201.200000         100.000000   \n",
       "75%           20.000000           235.300000         113.000000   \n",
       "max           30.910000           395.000000         175.000000   \n",
       "\n",
       "       total_night_charge  total_intl_minutes  total_intl_calls  \\\n",
       "count         3333.000000         3333.000000       3333.000000   \n",
       "mean             9.039325           10.237294          4.479448   \n",
       "std              2.275873            2.791840          2.461214   \n",
       "min              1.040000            0.000000          0.000000   \n",
       "25%              7.520000            8.500000          3.000000   \n",
       "50%              9.050000           10.300000          4.000000   \n",
       "75%             10.590000           12.100000          6.000000   \n",
       "max             17.770000           20.000000         20.000000   \n",
       "\n",
       "       total_intl_charge  customer_service_calls  \n",
       "count        3333.000000             3333.000000  \n",
       "mean            2.764581                1.562856  \n",
       "std             0.753773                1.315491  \n",
       "min             0.000000                0.000000  \n",
       "25%             2.300000                1.000000  \n",
       "50%             2.780000                1.000000  \n",
       "75%             3.270000                2.000000  \n",
       "max             5.400000                9.000000  "
      ]
     },
     "execution_count": 85,
     "metadata": {},
     "output_type": "execute_result"
    }
   ],
   "source": [
    "#Viewing the statistical details such as std, percentile, count, and the mean\n",
    "df.describe()"
   ]
  },
  {
   "cell_type": "markdown",
   "metadata": {
    "id": "liEYm_1Cfy03"
   },
   "source": [
    "In this step we check for anormalies in the df.\n",
    "We need to dive deep into the data to see if we have missing values in terms of placeholder values or unique values."
   ]
  },
  {
   "cell_type": "markdown",
   "metadata": {
    "id": "l9Nm3QT8lFMf"
   },
   "source": [
    "\n",
    "**Data Cleaning**"
   ]
  },
  {
   "cell_type": "markdown",
   "metadata": {
    "id": "h6VhfMEanDKE"
   },
   "source": [
    "Below cell checks for general information about missing values across all the columns"
   ]
  },
  {
   "cell_type": "code",
   "execution_count": 86,
   "metadata": {
    "colab": {
     "base_uri": "https://localhost:8080/"
    },
    "id": "GAfthUc7fy03",
    "outputId": "9d71b56f-24a8-4c38-f02e-414512523590"
   },
   "outputs": [
    {
     "name": "stdout",
     "output_type": "stream",
     "text": [
      "state                     0\n",
      "account_length            0\n",
      "area_code                 0\n",
      "phone_number              0\n",
      "international_plan        0\n",
      "voice_mail_plan           0\n",
      "number_vmail_messages     0\n",
      "total_day_minutes         0\n",
      "total_day_calls           0\n",
      "total_day_charge          0\n",
      "total_eve_minutes         0\n",
      "total_eve_calls           0\n",
      "total_eve_charge          0\n",
      "total_night_minutes       0\n",
      "total_night_calls         0\n",
      "total_night_charge        0\n",
      "total_intl_minutes        0\n",
      "total_intl_calls          0\n",
      "total_intl_charge         0\n",
      "customer_service_calls    0\n",
      "churn                     0\n",
      "dtype: int64\n"
     ]
    }
   ],
   "source": [
    "#confirming that there no missing values (nan) in the dataframe\n",
    "missing_values = df.isnull().sum()\n",
    "print(missing_values)"
   ]
  },
  {
   "cell_type": "markdown",
   "metadata": {
    "id": "hP_js6DVktlp"
   },
   "source": [
    "There are no null values across all the columns. As we can see, all columns indicate that we have zero null values. However, that does not mean that data has no missing records. As such, its important to review df further to identify values that are not a representation of the data\n",
    "\n",
    "In that case, we take a look at each column for any anormalies such as wrong data type and unexpected records."
   ]
  },
  {
   "cell_type": "markdown",
   "metadata": {
    "id": "fBE2tjZZHGRS"
   },
   "source": [
    "We start by checking the `*state column*`"
   ]
  },
  {
   "cell_type": "code",
   "execution_count": 87,
   "metadata": {
    "colab": {
     "base_uri": "https://localhost:8080/"
    },
    "id": "YWLEnAbOfy03",
    "outputId": "6def1384-6e47-46f1-e4e0-c60f9e02cc50"
   },
   "outputs": [
    {
     "data": {
      "text/plain": [
       "WV    106\n",
       "MN     84\n",
       "NY     83\n",
       "AL     80\n",
       "OR     78\n",
       "OH     78\n",
       "WI     78\n",
       "WY     77\n",
       "VA     77\n",
       "CT     74\n",
       "MI     73\n",
       "ID     73\n",
       "VT     73\n",
       "TX     72\n",
       "UT     72\n",
       "IN     71\n",
       "MD     70\n",
       "KS     70\n",
       "NC     68\n",
       "NJ     68\n",
       "MT     68\n",
       "NV     66\n",
       "CO     66\n",
       "WA     66\n",
       "MA     65\n",
       "MS     65\n",
       "RI     65\n",
       "AZ     64\n",
       "MO     63\n",
       "FL     63\n",
       "ME     62\n",
       "ND     62\n",
       "NM     62\n",
       "OK     61\n",
       "NE     61\n",
       "DE     61\n",
       "SC     60\n",
       "SD     60\n",
       "KY     59\n",
       "IL     58\n",
       "NH     56\n",
       "AR     55\n",
       "DC     54\n",
       "GA     54\n",
       "HI     53\n",
       "TN     53\n",
       "AK     52\n",
       "LA     51\n",
       "PA     45\n",
       "IA     44\n",
       "CA     34\n",
       "Name: state, dtype: int64"
      ]
     },
     "execution_count": 87,
     "metadata": {},
     "output_type": "execute_result"
    }
   ],
   "source": [
    "# checking for value_count for the different state abbreviations\n",
    "df.state.value_counts()"
   ]
  },
  {
   "cell_type": "markdown",
   "metadata": {
    "id": "hS3CJUqKGsiL"
   },
   "source": [
    "Because the state column is a representation of an area code, there is no need to check for duplicates as several subsribers can be residing in the same state. \n",
    "\n",
    "However, because we have both state and area code, we will drop state and use area code to reference geographical location. The reason for us dropping the state column is because we have the area code column, which contains information on where each client resides."
   ]
  },
  {
   "cell_type": "code",
   "execution_count": 88,
   "metadata": {
    "id": "7vskhuUApvf2"
   },
   "outputs": [],
   "source": [
    "# dropping the state column\n",
    "df = df.drop('state', axis=1)"
   ]
  },
  {
   "cell_type": "code",
   "execution_count": 89,
   "metadata": {
    "colab": {
     "base_uri": "https://localhost:8080/"
    },
    "id": "d5-kZJ-Ppvf3",
    "outputId": "db19c2fe-85f4-41e9-dc5a-c36e8ec9daae"
   },
   "outputs": [
    {
     "name": "stdout",
     "output_type": "stream",
     "text": [
      "<class 'pandas.core.frame.DataFrame'>\n",
      "RangeIndex: 3333 entries, 0 to 3332\n",
      "Data columns (total 20 columns):\n",
      " #   Column                  Non-Null Count  Dtype  \n",
      "---  ------                  --------------  -----  \n",
      " 0   account_length          3333 non-null   int64  \n",
      " 1   area_code               3333 non-null   int64  \n",
      " 2   phone_number            3333 non-null   object \n",
      " 3   international_plan      3333 non-null   object \n",
      " 4   voice_mail_plan         3333 non-null   object \n",
      " 5   number_vmail_messages   3333 non-null   int64  \n",
      " 6   total_day_minutes       3333 non-null   float64\n",
      " 7   total_day_calls         3333 non-null   int64  \n",
      " 8   total_day_charge        3333 non-null   float64\n",
      " 9   total_eve_minutes       3333 non-null   float64\n",
      " 10  total_eve_calls         3333 non-null   int64  \n",
      " 11  total_eve_charge        3333 non-null   float64\n",
      " 12  total_night_minutes     3333 non-null   float64\n",
      " 13  total_night_calls       3333 non-null   int64  \n",
      " 14  total_night_charge      3333 non-null   float64\n",
      " 15  total_intl_minutes      3333 non-null   float64\n",
      " 16  total_intl_calls        3333 non-null   int64  \n",
      " 17  total_intl_charge       3333 non-null   float64\n",
      " 18  customer_service_calls  3333 non-null   int64  \n",
      " 19  churn                   3333 non-null   bool   \n",
      "dtypes: bool(1), float64(8), int64(8), object(3)\n",
      "memory usage: 498.1+ KB\n"
     ]
    }
   ],
   "source": [
    "df.info()"
   ]
  },
  {
   "cell_type": "markdown",
   "metadata": {},
   "source": [
    "Looking at the our column information, we can see that the state column has been successfuly dropped, leaving us with the area code column."
   ]
  },
  {
   "cell_type": "markdown",
   "metadata": {
    "id": "yLzecCDNHVgB"
   },
   "source": [
    "We then proceed to check the `*Account length Column*`"
   ]
  },
  {
   "cell_type": "code",
   "execution_count": 90,
   "metadata": {
    "colab": {
     "base_uri": "https://localhost:8080/"
    },
    "id": "35T_KeAgfy03",
    "outputId": "40536877-d8f4-471c-cf07-5455ee83ddfb"
   },
   "outputs": [
    {
     "data": {
      "text/plain": [
       "105    43\n",
       "87     42\n",
       "93     40\n",
       "101    40\n",
       "90     39\n",
       "       ..\n",
       "191     1\n",
       "199     1\n",
       "215     1\n",
       "221     1\n",
       "2       1\n",
       "Name: account_length, Length: 212, dtype: int64"
      ]
     },
     "execution_count": 90,
     "metadata": {},
     "output_type": "execute_result"
    }
   ],
   "source": [
    "# checking account length column\n",
    "df.account_length.value_counts()"
   ]
  },
  {
   "cell_type": "markdown",
   "metadata": {
    "id": "_9KjX_UbLk1V"
   },
   "source": [
    "Given account_length isn't unique, and no null and missing values. There is no need for further checks on this column"
   ]
  },
  {
   "cell_type": "markdown",
   "metadata": {
    "id": "_7Wx5qxkN4EK"
   },
   "source": [
    "Afterward, we also review the `*Area Code Column*` for the possibilities of unique or missing values"
   ]
  },
  {
   "cell_type": "code",
   "execution_count": 91,
   "metadata": {
    "colab": {
     "base_uri": "https://localhost:8080/"
    },
    "id": "Afi0tLwTHeLK",
    "outputId": "92ba40d6-bb97-4874-ff38-ffa5cc2cc51f"
   },
   "outputs": [
    {
     "data": {
      "text/plain": [
       "array([415, 408, 510], dtype=int64)"
      ]
     },
     "execution_count": 91,
     "metadata": {},
     "output_type": "execute_result"
    }
   ],
   "source": [
    "df.area_code.unique()"
   ]
  },
  {
   "cell_type": "code",
   "execution_count": 92,
   "metadata": {
    "colab": {
     "base_uri": "https://localhost:8080/"
    },
    "id": "ikEuMudyOIBF",
    "outputId": "ca7b3a47-eddc-4f70-a839-6889790c4ac2"
   },
   "outputs": [
    {
     "data": {
      "text/plain": [
       "415    1655\n",
       "510     840\n",
       "408     838\n",
       "Name: area_code, dtype: int64"
      ]
     },
     "execution_count": 92,
     "metadata": {},
     "output_type": "execute_result"
    }
   ],
   "source": [
    "df.area_code.value_counts()"
   ]
  },
  {
   "cell_type": "markdown",
   "metadata": {
    "id": "zezhq4XOOV28"
   },
   "source": [
    "Same as the `account_length column`, the column has no missing values and any other unexpected unique item. No further cleaning for this column"
   ]
  },
  {
   "cell_type": "markdown",
   "metadata": {
    "id": "KBrQm7unOmp2"
   },
   "source": [
    "We proceed to review the `Phone Number Column`"
   ]
  },
  {
   "cell_type": "code",
   "execution_count": 93,
   "metadata": {
    "colab": {
     "base_uri": "https://localhost:8080/"
    },
    "id": "0mbzID7YONS5",
    "outputId": "1357c92e-427c-45d7-e301-1fc198204dba"
   },
   "outputs": [
    {
     "data": {
      "text/plain": [
       "0       382-4657\n",
       "1       371-7191\n",
       "2       358-1921\n",
       "3       375-9999\n",
       "4       330-6626\n",
       "          ...   \n",
       "3328    414-4276\n",
       "3329    370-3271\n",
       "3330    328-8230\n",
       "3331    364-6381\n",
       "3332    400-4344\n",
       "Name: phone_number, Length: 3333, dtype: object"
      ]
     },
     "execution_count": 93,
     "metadata": {},
     "output_type": "execute_result"
    }
   ],
   "source": [
    "df.phone_number"
   ]
  },
  {
   "cell_type": "code",
   "execution_count": 94,
   "metadata": {
    "colab": {
     "base_uri": "https://localhost:8080/"
    },
    "id": "54P-_Ai1OvLo",
    "outputId": "8e3ba062-1938-4237-8816-0c22cea725df"
   },
   "outputs": [
    {
     "data": {
      "text/plain": [
       "<bound method Series.unique of 0       382-4657\n",
       "1       371-7191\n",
       "2       358-1921\n",
       "3       375-9999\n",
       "4       330-6626\n",
       "          ...   \n",
       "3328    414-4276\n",
       "3329    370-3271\n",
       "3330    328-8230\n",
       "3331    364-6381\n",
       "3332    400-4344\n",
       "Name: phone_number, Length: 3333, dtype: object>"
      ]
     },
     "execution_count": 94,
     "metadata": {},
     "output_type": "execute_result"
    }
   ],
   "source": [
    "df.phone_number.unique"
   ]
  },
  {
   "cell_type": "markdown",
   "metadata": {
    "id": "qeyH_vfQO_Ms"
   },
   "source": [
    "Given that `Phone number` is the unique Identifier, let us clean it and check for any duplicates. We do not expect the same phone number to be used by two different subscribers. \n",
    "\n",
    "As was previously observed, `phone_number column` is of object datatype. Given these are digits we need to change them to an integer data type.\n",
    "\n",
    "In order to do this, we need to remove the `'-'` and convert the dtype to `integer`.."
   ]
  },
  {
   "cell_type": "code",
   "execution_count": 95,
   "metadata": {
    "id": "uyOAYg-ZRbRt"
   },
   "outputs": [],
   "source": [
    "# Remove hyphen and convert to integer\n",
    "df['phone_number'] = df['phone_number'].str.replace('-', '').astype(int)"
   ]
  },
  {
   "cell_type": "markdown",
   "metadata": {},
   "source": [
    "We then check if the change has been effected for this column"
   ]
  },
  {
   "cell_type": "code",
   "execution_count": 96,
   "metadata": {
    "colab": {
     "base_uri": "https://localhost:8080/"
    },
    "id": "x_PbdIEcR4q-",
    "outputId": "e7813767-c745-466b-c172-a7443ddcd334"
   },
   "outputs": [
    {
     "data": {
      "text/plain": [
       "0       3824657\n",
       "1       3717191\n",
       "2       3581921\n",
       "3       3759999\n",
       "4       3306626\n",
       "         ...   \n",
       "3328    4144276\n",
       "3329    3703271\n",
       "3330    3288230\n",
       "3331    3646381\n",
       "3332    4004344\n",
       "Name: phone_number, Length: 3333, dtype: int32"
      ]
     },
     "execution_count": 96,
     "metadata": {},
     "output_type": "execute_result"
    }
   ],
   "source": [
    "# checking if above conversion is effected\n",
    "df.phone_number"
   ]
  },
  {
   "cell_type": "markdown",
   "metadata": {
    "id": "xs9Gpl96SK_i"
   },
   "source": [
    "Everything looks perfect so far, the hyphens `'-'` have been removed and datatype changed to `integer`\n",
    "\n",
    "Nex, we check for duplicates in the `phone_numbe` column and remove them. As stated before, we do not expect one phone number to be held by two different clients. Since a phone number can be registered to only one client, each phone number will be considered to be a representation of one client."
   ]
  },
  {
   "cell_type": "code",
   "execution_count": 97,
   "metadata": {
    "colab": {
     "base_uri": "https://localhost:8080/",
     "height": 113
    },
    "id": "aQexqwMaO-c-",
    "outputId": "1efad343-ce2c-4969-ae03-ba9e3471f43f"
   },
   "outputs": [
    {
     "data": {
      "text/html": [
       "<div>\n",
       "<style scoped>\n",
       "    .dataframe tbody tr th:only-of-type {\n",
       "        vertical-align: middle;\n",
       "    }\n",
       "\n",
       "    .dataframe tbody tr th {\n",
       "        vertical-align: top;\n",
       "    }\n",
       "\n",
       "    .dataframe thead th {\n",
       "        text-align: right;\n",
       "    }\n",
       "</style>\n",
       "<table border=\"1\" class=\"dataframe\">\n",
       "  <thead>\n",
       "    <tr style=\"text-align: right;\">\n",
       "      <th></th>\n",
       "      <th>account_length</th>\n",
       "      <th>area_code</th>\n",
       "      <th>phone_number</th>\n",
       "      <th>international_plan</th>\n",
       "      <th>voice_mail_plan</th>\n",
       "      <th>number_vmail_messages</th>\n",
       "      <th>total_day_minutes</th>\n",
       "      <th>total_day_calls</th>\n",
       "      <th>total_day_charge</th>\n",
       "      <th>total_eve_minutes</th>\n",
       "      <th>total_eve_calls</th>\n",
       "      <th>total_eve_charge</th>\n",
       "      <th>total_night_minutes</th>\n",
       "      <th>total_night_calls</th>\n",
       "      <th>total_night_charge</th>\n",
       "      <th>total_intl_minutes</th>\n",
       "      <th>total_intl_calls</th>\n",
       "      <th>total_intl_charge</th>\n",
       "      <th>customer_service_calls</th>\n",
       "      <th>churn</th>\n",
       "    </tr>\n",
       "  </thead>\n",
       "  <tbody>\n",
       "  </tbody>\n",
       "</table>\n",
       "</div>"
      ],
      "text/plain": [
       "Empty DataFrame\n",
       "Columns: [account_length, area_code, phone_number, international_plan, voice_mail_plan, number_vmail_messages, total_day_minutes, total_day_calls, total_day_charge, total_eve_minutes, total_eve_calls, total_eve_charge, total_night_minutes, total_night_calls, total_night_charge, total_intl_minutes, total_intl_calls, total_intl_charge, customer_service_calls, churn]\n",
       "Index: []"
      ]
     },
     "execution_count": 97,
     "metadata": {},
     "output_type": "execute_result"
    }
   ],
   "source": [
    "# Check for duplicates in the 'phone number' column\n",
    "duplicates = df.duplicated('phone_number')\n",
    "\n",
    "# Filter the DataFrame to show only the duplicate rows\n",
    "duplicate_rows = df[duplicates]\n",
    "duplicate_rows"
   ]
  },
  {
   "cell_type": "markdown",
   "metadata": {
    "id": "YSwjuTEzPiFE"
   },
   "source": [
    "As we can see, everything looks great: there are no duplicates in the `phone number column`\n",
    "\n",
    "And since the `phone number` is a representation of one customer, we can make the `phone number column` to be the `index column` for our data. \n",
    "\n",
    "This means that the column will be our unique identifier."
   ]
  },
  {
   "cell_type": "code",
   "execution_count": 98,
   "metadata": {
    "id": "MS_nK4Gwpvf8"
   },
   "outputs": [],
   "source": [
    "# making phone_number column to be the index column given its the unique identifier\n",
    "df.set_index('phone_number', inplace=True)"
   ]
  },
  {
   "cell_type": "code",
   "execution_count": 99,
   "metadata": {
    "colab": {
     "base_uri": "https://localhost:8080/"
    },
    "id": "QfVes00rSRSq",
    "outputId": "4fc9fa35-9d5a-4223-f1f6-91d467dbee85"
   },
   "outputs": [
    {
     "name": "stdout",
     "output_type": "stream",
     "text": [
      "<class 'pandas.core.frame.DataFrame'>\n",
      "Int64Index: 3333 entries, 3824657 to 4004344\n",
      "Data columns (total 19 columns):\n",
      " #   Column                  Non-Null Count  Dtype  \n",
      "---  ------                  --------------  -----  \n",
      " 0   account_length          3333 non-null   int64  \n",
      " 1   area_code               3333 non-null   int64  \n",
      " 2   international_plan      3333 non-null   object \n",
      " 3   voice_mail_plan         3333 non-null   object \n",
      " 4   number_vmail_messages   3333 non-null   int64  \n",
      " 5   total_day_minutes       3333 non-null   float64\n",
      " 6   total_day_calls         3333 non-null   int64  \n",
      " 7   total_day_charge        3333 non-null   float64\n",
      " 8   total_eve_minutes       3333 non-null   float64\n",
      " 9   total_eve_calls         3333 non-null   int64  \n",
      " 10  total_eve_charge        3333 non-null   float64\n",
      " 11  total_night_minutes     3333 non-null   float64\n",
      " 12  total_night_calls       3333 non-null   int64  \n",
      " 13  total_night_charge      3333 non-null   float64\n",
      " 14  total_intl_minutes      3333 non-null   float64\n",
      " 15  total_intl_calls        3333 non-null   int64  \n",
      " 16  total_intl_charge       3333 non-null   float64\n",
      " 17  customer_service_calls  3333 non-null   int64  \n",
      " 18  churn                   3333 non-null   bool   \n",
      "dtypes: bool(1), float64(8), int64(8), object(2)\n",
      "memory usage: 498.0+ KB\n"
     ]
    }
   ],
   "source": [
    "# previewing the general info to confirm same has been reflected in the df\n",
    "df.info()"
   ]
  },
  {
   "cell_type": "code",
   "execution_count": 100,
   "metadata": {
    "colab": {
     "base_uri": "https://localhost:8080/",
     "height": 519
    },
    "id": "9gPaG43bP9Dr",
    "outputId": "51293d2b-989a-484b-b72c-fe7f89917beb"
   },
   "outputs": [
    {
     "data": {
      "text/html": [
       "<div>\n",
       "<style scoped>\n",
       "    .dataframe tbody tr th:only-of-type {\n",
       "        vertical-align: middle;\n",
       "    }\n",
       "\n",
       "    .dataframe tbody tr th {\n",
       "        vertical-align: top;\n",
       "    }\n",
       "\n",
       "    .dataframe thead th {\n",
       "        text-align: right;\n",
       "    }\n",
       "</style>\n",
       "<table border=\"1\" class=\"dataframe\">\n",
       "  <thead>\n",
       "    <tr style=\"text-align: right;\">\n",
       "      <th></th>\n",
       "      <th>account_length</th>\n",
       "      <th>area_code</th>\n",
       "      <th>international_plan</th>\n",
       "      <th>voice_mail_plan</th>\n",
       "      <th>number_vmail_messages</th>\n",
       "      <th>total_day_minutes</th>\n",
       "      <th>total_day_calls</th>\n",
       "      <th>total_day_charge</th>\n",
       "      <th>total_eve_minutes</th>\n",
       "      <th>total_eve_calls</th>\n",
       "      <th>total_eve_charge</th>\n",
       "      <th>total_night_minutes</th>\n",
       "      <th>total_night_calls</th>\n",
       "      <th>total_night_charge</th>\n",
       "      <th>total_intl_minutes</th>\n",
       "      <th>total_intl_calls</th>\n",
       "      <th>total_intl_charge</th>\n",
       "      <th>customer_service_calls</th>\n",
       "      <th>churn</th>\n",
       "    </tr>\n",
       "    <tr>\n",
       "      <th>phone_number</th>\n",
       "      <th></th>\n",
       "      <th></th>\n",
       "      <th></th>\n",
       "      <th></th>\n",
       "      <th></th>\n",
       "      <th></th>\n",
       "      <th></th>\n",
       "      <th></th>\n",
       "      <th></th>\n",
       "      <th></th>\n",
       "      <th></th>\n",
       "      <th></th>\n",
       "      <th></th>\n",
       "      <th></th>\n",
       "      <th></th>\n",
       "      <th></th>\n",
       "      <th></th>\n",
       "      <th></th>\n",
       "      <th></th>\n",
       "    </tr>\n",
       "  </thead>\n",
       "  <tbody>\n",
       "    <tr>\n",
       "      <th>3824657</th>\n",
       "      <td>128</td>\n",
       "      <td>415</td>\n",
       "      <td>no</td>\n",
       "      <td>yes</td>\n",
       "      <td>25</td>\n",
       "      <td>265.1</td>\n",
       "      <td>110</td>\n",
       "      <td>45.07</td>\n",
       "      <td>197.4</td>\n",
       "      <td>99</td>\n",
       "      <td>16.78</td>\n",
       "      <td>244.7</td>\n",
       "      <td>91</td>\n",
       "      <td>11.01</td>\n",
       "      <td>10.0</td>\n",
       "      <td>3</td>\n",
       "      <td>2.70</td>\n",
       "      <td>1</td>\n",
       "      <td>False</td>\n",
       "    </tr>\n",
       "    <tr>\n",
       "      <th>3717191</th>\n",
       "      <td>107</td>\n",
       "      <td>415</td>\n",
       "      <td>no</td>\n",
       "      <td>yes</td>\n",
       "      <td>26</td>\n",
       "      <td>161.6</td>\n",
       "      <td>123</td>\n",
       "      <td>27.47</td>\n",
       "      <td>195.5</td>\n",
       "      <td>103</td>\n",
       "      <td>16.62</td>\n",
       "      <td>254.4</td>\n",
       "      <td>103</td>\n",
       "      <td>11.45</td>\n",
       "      <td>13.7</td>\n",
       "      <td>3</td>\n",
       "      <td>3.70</td>\n",
       "      <td>1</td>\n",
       "      <td>False</td>\n",
       "    </tr>\n",
       "    <tr>\n",
       "      <th>3581921</th>\n",
       "      <td>137</td>\n",
       "      <td>415</td>\n",
       "      <td>no</td>\n",
       "      <td>no</td>\n",
       "      <td>0</td>\n",
       "      <td>243.4</td>\n",
       "      <td>114</td>\n",
       "      <td>41.38</td>\n",
       "      <td>121.2</td>\n",
       "      <td>110</td>\n",
       "      <td>10.30</td>\n",
       "      <td>162.6</td>\n",
       "      <td>104</td>\n",
       "      <td>7.32</td>\n",
       "      <td>12.2</td>\n",
       "      <td>5</td>\n",
       "      <td>3.29</td>\n",
       "      <td>0</td>\n",
       "      <td>False</td>\n",
       "    </tr>\n",
       "    <tr>\n",
       "      <th>3759999</th>\n",
       "      <td>84</td>\n",
       "      <td>408</td>\n",
       "      <td>yes</td>\n",
       "      <td>no</td>\n",
       "      <td>0</td>\n",
       "      <td>299.4</td>\n",
       "      <td>71</td>\n",
       "      <td>50.90</td>\n",
       "      <td>61.9</td>\n",
       "      <td>88</td>\n",
       "      <td>5.26</td>\n",
       "      <td>196.9</td>\n",
       "      <td>89</td>\n",
       "      <td>8.86</td>\n",
       "      <td>6.6</td>\n",
       "      <td>7</td>\n",
       "      <td>1.78</td>\n",
       "      <td>2</td>\n",
       "      <td>False</td>\n",
       "    </tr>\n",
       "    <tr>\n",
       "      <th>3306626</th>\n",
       "      <td>75</td>\n",
       "      <td>415</td>\n",
       "      <td>yes</td>\n",
       "      <td>no</td>\n",
       "      <td>0</td>\n",
       "      <td>166.7</td>\n",
       "      <td>113</td>\n",
       "      <td>28.34</td>\n",
       "      <td>148.3</td>\n",
       "      <td>122</td>\n",
       "      <td>12.61</td>\n",
       "      <td>186.9</td>\n",
       "      <td>121</td>\n",
       "      <td>8.41</td>\n",
       "      <td>10.1</td>\n",
       "      <td>3</td>\n",
       "      <td>2.73</td>\n",
       "      <td>3</td>\n",
       "      <td>False</td>\n",
       "    </tr>\n",
       "    <tr>\n",
       "      <th>...</th>\n",
       "      <td>...</td>\n",
       "      <td>...</td>\n",
       "      <td>...</td>\n",
       "      <td>...</td>\n",
       "      <td>...</td>\n",
       "      <td>...</td>\n",
       "      <td>...</td>\n",
       "      <td>...</td>\n",
       "      <td>...</td>\n",
       "      <td>...</td>\n",
       "      <td>...</td>\n",
       "      <td>...</td>\n",
       "      <td>...</td>\n",
       "      <td>...</td>\n",
       "      <td>...</td>\n",
       "      <td>...</td>\n",
       "      <td>...</td>\n",
       "      <td>...</td>\n",
       "      <td>...</td>\n",
       "    </tr>\n",
       "    <tr>\n",
       "      <th>4144276</th>\n",
       "      <td>192</td>\n",
       "      <td>415</td>\n",
       "      <td>no</td>\n",
       "      <td>yes</td>\n",
       "      <td>36</td>\n",
       "      <td>156.2</td>\n",
       "      <td>77</td>\n",
       "      <td>26.55</td>\n",
       "      <td>215.5</td>\n",
       "      <td>126</td>\n",
       "      <td>18.32</td>\n",
       "      <td>279.1</td>\n",
       "      <td>83</td>\n",
       "      <td>12.56</td>\n",
       "      <td>9.9</td>\n",
       "      <td>6</td>\n",
       "      <td>2.67</td>\n",
       "      <td>2</td>\n",
       "      <td>False</td>\n",
       "    </tr>\n",
       "    <tr>\n",
       "      <th>3703271</th>\n",
       "      <td>68</td>\n",
       "      <td>415</td>\n",
       "      <td>no</td>\n",
       "      <td>no</td>\n",
       "      <td>0</td>\n",
       "      <td>231.1</td>\n",
       "      <td>57</td>\n",
       "      <td>39.29</td>\n",
       "      <td>153.4</td>\n",
       "      <td>55</td>\n",
       "      <td>13.04</td>\n",
       "      <td>191.3</td>\n",
       "      <td>123</td>\n",
       "      <td>8.61</td>\n",
       "      <td>9.6</td>\n",
       "      <td>4</td>\n",
       "      <td>2.59</td>\n",
       "      <td>3</td>\n",
       "      <td>False</td>\n",
       "    </tr>\n",
       "    <tr>\n",
       "      <th>3288230</th>\n",
       "      <td>28</td>\n",
       "      <td>510</td>\n",
       "      <td>no</td>\n",
       "      <td>no</td>\n",
       "      <td>0</td>\n",
       "      <td>180.8</td>\n",
       "      <td>109</td>\n",
       "      <td>30.74</td>\n",
       "      <td>288.8</td>\n",
       "      <td>58</td>\n",
       "      <td>24.55</td>\n",
       "      <td>191.9</td>\n",
       "      <td>91</td>\n",
       "      <td>8.64</td>\n",
       "      <td>14.1</td>\n",
       "      <td>6</td>\n",
       "      <td>3.81</td>\n",
       "      <td>2</td>\n",
       "      <td>False</td>\n",
       "    </tr>\n",
       "    <tr>\n",
       "      <th>3646381</th>\n",
       "      <td>184</td>\n",
       "      <td>510</td>\n",
       "      <td>yes</td>\n",
       "      <td>no</td>\n",
       "      <td>0</td>\n",
       "      <td>213.8</td>\n",
       "      <td>105</td>\n",
       "      <td>36.35</td>\n",
       "      <td>159.6</td>\n",
       "      <td>84</td>\n",
       "      <td>13.57</td>\n",
       "      <td>139.2</td>\n",
       "      <td>137</td>\n",
       "      <td>6.26</td>\n",
       "      <td>5.0</td>\n",
       "      <td>10</td>\n",
       "      <td>1.35</td>\n",
       "      <td>2</td>\n",
       "      <td>False</td>\n",
       "    </tr>\n",
       "    <tr>\n",
       "      <th>4004344</th>\n",
       "      <td>74</td>\n",
       "      <td>415</td>\n",
       "      <td>no</td>\n",
       "      <td>yes</td>\n",
       "      <td>25</td>\n",
       "      <td>234.4</td>\n",
       "      <td>113</td>\n",
       "      <td>39.85</td>\n",
       "      <td>265.9</td>\n",
       "      <td>82</td>\n",
       "      <td>22.60</td>\n",
       "      <td>241.4</td>\n",
       "      <td>77</td>\n",
       "      <td>10.86</td>\n",
       "      <td>13.7</td>\n",
       "      <td>4</td>\n",
       "      <td>3.70</td>\n",
       "      <td>0</td>\n",
       "      <td>False</td>\n",
       "    </tr>\n",
       "  </tbody>\n",
       "</table>\n",
       "<p>3333 rows × 19 columns</p>\n",
       "</div>"
      ],
      "text/plain": [
       "              account_length  area_code international_plan voice_mail_plan  \\\n",
       "phone_number                                                                 \n",
       "3824657                  128        415                 no             yes   \n",
       "3717191                  107        415                 no             yes   \n",
       "3581921                  137        415                 no              no   \n",
       "3759999                   84        408                yes              no   \n",
       "3306626                   75        415                yes              no   \n",
       "...                      ...        ...                ...             ...   \n",
       "4144276                  192        415                 no             yes   \n",
       "3703271                   68        415                 no              no   \n",
       "3288230                   28        510                 no              no   \n",
       "3646381                  184        510                yes              no   \n",
       "4004344                   74        415                 no             yes   \n",
       "\n",
       "              number_vmail_messages  total_day_minutes  total_day_calls  \\\n",
       "phone_number                                                              \n",
       "3824657                          25              265.1              110   \n",
       "3717191                          26              161.6              123   \n",
       "3581921                           0              243.4              114   \n",
       "3759999                           0              299.4               71   \n",
       "3306626                           0              166.7              113   \n",
       "...                             ...                ...              ...   \n",
       "4144276                          36              156.2               77   \n",
       "3703271                           0              231.1               57   \n",
       "3288230                           0              180.8              109   \n",
       "3646381                           0              213.8              105   \n",
       "4004344                          25              234.4              113   \n",
       "\n",
       "              total_day_charge  total_eve_minutes  total_eve_calls  \\\n",
       "phone_number                                                         \n",
       "3824657                  45.07              197.4               99   \n",
       "3717191                  27.47              195.5              103   \n",
       "3581921                  41.38              121.2              110   \n",
       "3759999                  50.90               61.9               88   \n",
       "3306626                  28.34              148.3              122   \n",
       "...                        ...                ...              ...   \n",
       "4144276                  26.55              215.5              126   \n",
       "3703271                  39.29              153.4               55   \n",
       "3288230                  30.74              288.8               58   \n",
       "3646381                  36.35              159.6               84   \n",
       "4004344                  39.85              265.9               82   \n",
       "\n",
       "              total_eve_charge  total_night_minutes  total_night_calls  \\\n",
       "phone_number                                                             \n",
       "3824657                  16.78                244.7                 91   \n",
       "3717191                  16.62                254.4                103   \n",
       "3581921                  10.30                162.6                104   \n",
       "3759999                   5.26                196.9                 89   \n",
       "3306626                  12.61                186.9                121   \n",
       "...                        ...                  ...                ...   \n",
       "4144276                  18.32                279.1                 83   \n",
       "3703271                  13.04                191.3                123   \n",
       "3288230                  24.55                191.9                 91   \n",
       "3646381                  13.57                139.2                137   \n",
       "4004344                  22.60                241.4                 77   \n",
       "\n",
       "              total_night_charge  total_intl_minutes  total_intl_calls  \\\n",
       "phone_number                                                             \n",
       "3824657                    11.01                10.0                 3   \n",
       "3717191                    11.45                13.7                 3   \n",
       "3581921                     7.32                12.2                 5   \n",
       "3759999                     8.86                 6.6                 7   \n",
       "3306626                     8.41                10.1                 3   \n",
       "...                          ...                 ...               ...   \n",
       "4144276                    12.56                 9.9                 6   \n",
       "3703271                     8.61                 9.6                 4   \n",
       "3288230                     8.64                14.1                 6   \n",
       "3646381                     6.26                 5.0                10   \n",
       "4004344                    10.86                13.7                 4   \n",
       "\n",
       "              total_intl_charge  customer_service_calls  churn  \n",
       "phone_number                                                    \n",
       "3824657                    2.70                       1  False  \n",
       "3717191                    3.70                       1  False  \n",
       "3581921                    3.29                       0  False  \n",
       "3759999                    1.78                       2  False  \n",
       "3306626                    2.73                       3  False  \n",
       "...                         ...                     ...    ...  \n",
       "4144276                    2.67                       2  False  \n",
       "3703271                    2.59                       3  False  \n",
       "3288230                    3.81                       2  False  \n",
       "3646381                    1.35                       2  False  \n",
       "4004344                    3.70                       0  False  \n",
       "\n",
       "[3333 rows x 19 columns]"
      ]
     },
     "execution_count": 100,
     "metadata": {},
     "output_type": "execute_result"
    }
   ],
   "source": [
    "# checking general df to see that both changes have been effected\n",
    "df"
   ]
  },
  {
   "cell_type": "markdown",
   "metadata": {
    "id": "e4gpZmu5TAUb"
   },
   "source": [
    "We further need to review the `International Plan Column`"
   ]
  },
  {
   "cell_type": "code",
   "execution_count": 101,
   "metadata": {
    "colab": {
     "base_uri": "https://localhost:8080/"
    },
    "id": "AQu5AkD4RSQi",
    "outputId": "574ef1ca-e444-47f6-f1f3-de24fea38807"
   },
   "outputs": [
    {
     "data": {
      "text/plain": [
       "no     3010\n",
       "yes     323\n",
       "Name: international_plan, dtype: int64"
      ]
     },
     "execution_count": 101,
     "metadata": {},
     "output_type": "execute_result"
    }
   ],
   "source": [
    "# Counting the occurrences of responses in this column\n",
    "counts = df['international_plan'].value_counts()\n",
    "counts"
   ]
  },
  {
   "cell_type": "markdown",
   "metadata": {
    "id": "PcP9soTzUoKg"
   },
   "source": [
    "From above, there are only 'yes' and 'no' responses in this column with no any other unique entry. This means that information stored in this column is whether a client has an international plan or not. In that case, no need for further cleaning"
   ]
  },
  {
   "cell_type": "markdown",
   "metadata": {
    "id": "XJduqxLLU2z4"
   },
   "source": [
    "Now lets look into the `Voice Mail Plan Column`. Given this column is of object type same as the international_plan column, we will repeat the same to confirm on unique entries and counts in this column"
   ]
  },
  {
   "cell_type": "code",
   "execution_count": 102,
   "metadata": {
    "colab": {
     "base_uri": "https://localhost:8080/"
    },
    "id": "aqzY5rXxTIf8",
    "outputId": "0271ac33-a3aa-40e6-a652-fc4a43535d50"
   },
   "outputs": [
    {
     "data": {
      "text/plain": [
       "no     2411\n",
       "yes     922\n",
       "Name: voice_mail_plan, dtype: int64"
      ]
     },
     "execution_count": 102,
     "metadata": {},
     "output_type": "execute_result"
    }
   ],
   "source": [
    "# Counting the occurrences of responses in this column\n",
    "counts1 = df['voice_mail_plan'].value_counts()\n",
    "counts1"
   ]
  },
  {
   "cell_type": "markdown",
   "metadata": {
    "id": "vTQKjwpdVWoe"
   },
   "source": [
    "From above, there are only 'yes' and 'no' responses in this column without any other unique entry. No need for cleaning cleaning"
   ]
  },
  {
   "cell_type": "markdown",
   "metadata": {
    "id": "-hlF5lCSpvf9"
   },
   "source": [
    "We then proceed to review the `Number_vmail_Messages`\n",
    "\n",
    "Since we already checked and confirmed that there were no missing values in any of the columns. We just need to do a value_count check to confirm that all entries are valid. This helps us identify possibility of invalid data values such as `symbols`, `placeholder values`, and `punctuation marks`."
   ]
  },
  {
   "cell_type": "code",
   "execution_count": 103,
   "metadata": {
    "colab": {
     "base_uri": "https://localhost:8080/"
    },
    "id": "708qhaI_pvf9",
    "outputId": "fa66ec62-b867-4f38-b514-340438aa8695"
   },
   "outputs": [
    {
     "data": {
      "text/plain": [
       "0     2411\n",
       "31      60\n",
       "29      53\n",
       "28      51\n",
       "33      46\n",
       "27      44\n",
       "30      44\n",
       "24      42\n",
       "26      41\n",
       "32      41\n",
       "25      37\n",
       "23      36\n",
       "36      34\n",
       "35      32\n",
       "22      32\n",
       "39      30\n",
       "37      29\n",
       "34      29\n",
       "21      28\n",
       "38      25\n",
       "20      22\n",
       "19      19\n",
       "40      16\n",
       "42      15\n",
       "17      14\n",
       "41      13\n",
       "16      13\n",
       "43       9\n",
       "15       9\n",
       "18       7\n",
       "44       7\n",
       "14       7\n",
       "45       6\n",
       "12       6\n",
       "46       4\n",
       "13       4\n",
       "47       3\n",
       "8        2\n",
       "48       2\n",
       "50       2\n",
       "9        2\n",
       "11       2\n",
       "49       1\n",
       "10       1\n",
       "4        1\n",
       "51       1\n",
       "Name: number_vmail_messages, dtype: int64"
      ]
     },
     "execution_count": 103,
     "metadata": {},
     "output_type": "execute_result"
    }
   ],
   "source": [
    "# looking at value_counts for this column\n",
    "df.number_vmail_messages.value_counts()"
   ]
  },
  {
   "cell_type": "markdown",
   "metadata": {
    "id": "dGf1xJJNpvf9"
   },
   "source": [
    "From Above, all entries are valid and the column entries are good to go with without further cleaning. \n",
    "\n",
    "Our next stop is the `Total_Day_Minutes` column, which corresponds to the average minutes clients spends in day on average.\n",
    "\n",
    "Having confirmed no missing value, in the df, we will look at the value_count of all unqiue entries in this column to check for any anormalies"
   ]
  },
  {
   "cell_type": "code",
   "execution_count": 104,
   "metadata": {
    "colab": {
     "base_uri": "https://localhost:8080/"
    },
    "id": "WeooIKONpvf9",
    "outputId": "6417f405-b360-48e5-deb9-9238a31fbcb4"
   },
   "outputs": [
    {
     "data": {
      "text/plain": [
       "174.5    8\n",
       "159.5    8\n",
       "154.0    8\n",
       "175.4    7\n",
       "162.3    7\n",
       "        ..\n",
       "199.9    1\n",
       "105.8    1\n",
       "125.6    1\n",
       "179.8    1\n",
       "270.8    1\n",
       "Name: total_day_minutes, Length: 1667, dtype: int64"
      ]
     },
     "execution_count": 104,
     "metadata": {},
     "output_type": "execute_result"
    }
   ],
   "source": [
    "# checking for total entry per unique item in the total_day_minutes column\n",
    "df.total_day_minutes.value_counts()"
   ]
  },
  {
   "cell_type": "markdown",
   "metadata": {
    "id": "0cF4FXOdpvf9"
   },
   "source": [
    "No presence of unexpected entry and with dtype as int64, this column does not need any cleaning."
   ]
  },
  {
   "cell_type": "markdown",
   "metadata": {
    "id": "DneO2GQHpvf9"
   },
   "source": [
    "For all the items with dtype as int64 and floating points, since they represent numerical values and the dataframe has indentified them as so, it is okay to leave the individual cleaning, as any entry of any number if valid.\n",
    "\n",
    "We will move to the last `Churn Column`, which will be our target variable and check for any anormalies."
   ]
  },
  {
   "cell_type": "code",
   "execution_count": 105,
   "metadata": {},
   "outputs": [
    {
     "data": {
      "text/plain": [
       "False    2850\n",
       "True      483\n",
       "Name: churn, dtype: int64"
      ]
     },
     "execution_count": 105,
     "metadata": {},
     "output_type": "execute_result"
    }
   ],
   "source": [
    "#reviewing the churn column\n",
    "df.churn.value_counts()"
   ]
  },
  {
   "cell_type": "markdown",
   "metadata": {},
   "source": [
    "The column does not appear to have any missing values. As we can see, there are `2850 false values`, which indicates the number of clients who did not churn. There are also `483 true values`, showing the number of clients who left the the company."
   ]
  },
  {
   "cell_type": "markdown",
   "metadata": {
    "id": "Q-ZOaIGcQIRv"
   },
   "source": [
    "## Exploratory Data Analysis\n",
    "\n",
    "In this section, we are going to conduct a comprehensive exploration of the data through `univariate`, `bivariate`, and `multivariate analysis`.\n",
    "\n",
    "The reason for this type of data exploration is to identify possible correlations among the features and distribution of variables, which will be important in feature engineering and modelling. "
   ]
  },
  {
   "cell_type": "markdown",
   "metadata": {
    "id": "0Zo1eOBPRlNz"
   },
   "source": [
    "### Univariate Analysis\n",
    "\n",
    "`Univariate data analysis` involves analyzing a single variable. In the context of our project, this will involve examining the distribution of each feature in the dataset to understand its characteristics and identify any potential issues such as outliers.\n",
    "\n",
    "We start with the target variable column **churn** to identify its distribution. This categorical variable with boolean values `True` and `False`, indicating whether the client will probably churn or not.\n",
    "\n",
    "First, we visualize the distribution of data in this column using a pie chart"
   ]
  },
  {
   "cell_type": "code",
   "execution_count": 106,
   "metadata": {
    "colab": {
     "base_uri": "https://localhost:8080/",
     "height": 428
    },
    "id": "joQh1Djipvf-",
    "outputId": "66b14023-e45a-4924-f584-0eaad745150b"
   },
   "outputs": [
    {
     "data": {
      "image/png": "[encoded data removed]",
      "text/plain": [
       "<Figure size 1080x720 with 1 Axes>"
      ]
     },
     "metadata": {},
     "output_type": "display_data"
    }
   ],
   "source": [
    "# representing the same using a Pie Chart to visualize the percentages\n",
    "churn_counts = df['churn'].value_counts()\n",
    "\n",
    "# Create a new figure with a larger size\n",
    "plt.figure(figsize=(15, 10))\n",
    "\n",
    "# Create a pie chart\n",
    "plt.pie(churn_counts, labels=churn_counts.index, autopct='%1.1f%%', startangle=90)\n",
    "plt.title('Churn Distribution')\n",
    "plt.axis('equal')  # Equal aspect ratio ensures that pie is drawn as a circle\n",
    "plt.show()\n"
   ]
  },
  {
   "cell_type": "markdown",
   "metadata": {
    "id": "X5Rk5cppWR7b"
   },
   "source": [
    "Of the 3,333 customers in the dataset, 483 have terminated their contract with the Telecom firm. That is 14.5% of customers lost.\n",
    "\n",
    "The distribution of the binary classes shows a data imbalance. This needs to be addressed before modeling as an unbalanced feature can cause the model to make false predictions.\n",
    "\n",
    "Further, will further review the data to identify outliers, which is crucial to understanding the distribution of values for different columns. For this, our focus is on numeric data. Outliers can significantly impact the performance of machine learning models, which will impacts the feature engineering process."
   ]
  },
  {
   "cell_type": "code",
   "execution_count": 107,
   "metadata": {
    "colab": {
     "base_uri": "https://localhost:8080/",
     "height": 810
    },
    "id": "z3JeIyUevDwO",
    "outputId": "85f5a9ba-454f-4c2c-84d9-44b67fc9dedb"
   },
   "outputs": [
    {
     "data": {
      "image/png": "[encoded data removed]",
      "text/plain": [
       "<Figure size 1440x576 with 2 Axes>"
      ]
     },
     "metadata": {},
     "output_type": "display_data"
    }
   ],
   "source": [
    "#Checking for outliers in the data\n",
    "# List of columns for the first boxplot\n",
    "cols1 = ['account_length','total_day_minutes','total_day_calls',\n",
    "                'total_eve_minutes','total_eve_calls','total_night_minutes','total_night_calls']\n",
    "\n",
    "# List of columns for the second boxplot\n",
    "cols2 = ['number_vmail_messages', 'total_day_charge', 'total_eve_charge', 'total_night_charge', 'total_intl_minutes', 'total_intl_calls', 'total_intl_charge', 'customer_service_calls']\n",
    "\n",
    "# Create a figure with one row and two columns\n",
    "fig, axes = plt.subplots(nrows=1, ncols=2, figsize=(20, 8))\n",
    "\n",
    "# Create a boxplot for the first subset of columns in the first column\n",
    "sns.boxplot(data=df[cols1], ax=axes[0])\n",
    "axes[0].set_xticklabels(axes[0].get_xticklabels(), rotation=90)\n",
    "\n",
    "# Create a boxplot for the second subset of columns in the second column\n",
    "sns.boxplot(data=df[cols2], ax=axes[1])\n",
    "axes[1].set_xticklabels(axes[1].get_xticklabels(), rotation=90)\n",
    "\n",
    "#setting the figure title\n",
    "fig.suptitle('Boxplots for different subsets of columns')\n",
    "\n",
    "# Show the plot\n",
    "plt.show()"
   ]
  },
  {
   "cell_type": "markdown",
   "metadata": {
    "id": "A0W8rWevxZRP"
   },
   "source": [
    "We used two separate boxplots because of the significant difference in scale between the columns. In box boxplots, we can see that the columns have numerous outliers, which may affect the performance of machine learning models such as k-nearest neighbors (knn).\n",
    "\n",
    "As for our data, all these outliers contain valuable information, which will be very important to our models."
   ]
  },
  {
   "cell_type": "markdown",
   "metadata": {
    "id": "Q5kE9cJoZnmF"
   },
   "source": [
    "### Bivariate Analysis\n",
    "Bivariate analysis involves analyzing the relationship between two variables. For our project, we examine the relationship between each feature and the target variable (customer churn) to understand how they are related.\n",
    "\n",
    "Here, we are doing some analysis of the customer churning in relation to state, area code, international plan, and voice mail plan. We are trying to understand whether there are correlations between the categorical columns and the customer churning rate."
   ]
  },
  {
   "cell_type": "code",
   "execution_count": 108,
   "metadata": {},
   "outputs": [
    {
     "data": {
      "image/png": "[encoded data removed]",
      "text/plain": [
       "<Figure size 1080x576 with 2 Axes>"
      ]
     },
     "metadata": {},
     "output_type": "display_data"
    }
   ],
   "source": [
    "categoric_cols = ['international_plan','voice_mail_plan']\n",
    "\n",
    "fig, axes = plt.subplots(nrows=1, ncols=len(categoric_cols), figsize=(15, 8))\n",
    "\n",
    "for i, col in enumerate(categoric_cols):\n",
    "    ax = sns.countplot(x=col, hue=\"churn\", data=df, order=df[col].value_counts().iloc[0:15].index, ax=axes[i])\n",
    "    axes[i].set_xticklabels(axes[i].get_xticklabels(), rotation=90)\n",
    "    handles, labels = axes[i].get_legend_handles_labels()\n",
    "    axes[i].legend(handles, ['No Churn', 'Churn'], loc=\"upper right\")\n",
    "    \n",
    "    # Calculate the total number of observations within each group\n",
    "    totals = df.groupby(col)[\"churn\"].count().values\n",
    "    \n",
    "    # Iterate over the rectangles in the plot\n",
    "    for j, p in enumerate(ax.patches):\n",
    "        # Calculate the percentage of observations in each group\n",
    "        percentage = '{:.1f}%'.format(100 * p.get_height()/totals[j % 2])\n",
    "        # Add text annotations with the calculated percentages\n",
    "        x = p.get_x() + p.get_width() / 2 - 0.05\n",
    "        y = p.get_y() + p.get_height()\n",
    "        ax.annotate(percentage, (x, y), size=12)\n",
    "\n",
    "plt.tight_layout()\n",
    "plt.show()\n"
   ]
  },
  {
   "cell_type": "markdown",
   "metadata": {
    "id": "q2CI2Os4ivOl"
   },
   "source": [
    "For the international plan, a higher proportion of customers who subscribed to the plan churned `(42.4%)` compared to those who did not subscribe `(11.5%)`. This suggests that subscribing to the international plan may be associated with a higher likelihood of churning.\n",
    "\n",
    "For the voice mail plan, a lower proportion of customers who subscribed to the plan churned `(8.7%)` compared to those who did not subscribe `(16.7%)`. This suggests that subscribing to the voice mail plan may be associated with a lower likelihood of churning."
   ]
  },
  {
   "cell_type": "markdown",
   "metadata": {},
   "source": [
    "Next, we visualize the correlations between `different features` and `customer churning`. Here, we are trying to understand how each feature might be contributing to customer churning. We use `pairplots` for this case!"
   ]
  },
  {
   "cell_type": "code",
   "execution_count": null,
   "metadata": {
    "colab": {
     "base_uri": "https://localhost:8080/",
     "height": 1000
    },
    "id": "JzGHJ4fOg1bc",
    "outputId": "e66c75bc-b596-4cdb-8b30-b116d456dae4"
   },
   "outputs": [],
   "source": [
    "#plotting pairplots for numeric variables\n",
    "data_temp = df[[\"account_length\",\"total_day_calls\",\"total_eve_calls\",\"total_night_calls\",\n",
    "                \"total_intl_calls\",\"customer_service_calls\",\"churn\"]]\n",
    "sns.pairplot(data_temp, hue=\"churn\",height=2.5);\n",
    "plt.show();"
   ]
  },
  {
   "cell_type": "markdown",
   "metadata": {
    "id": "LwT1UrG8idh9"
   },
   "source": [
    "There seems to be strong relationship between customer service calls and true churn values. After 4 calls, customers are a lot more likely to discontinue their service."
   ]
  },
  {
   "cell_type": "markdown",
   "metadata": {
    "id": "grX6h6o_dH0s"
   },
   "source": [
    "### Multi-variate Analysis\n",
    "Multivariate analysis involves analyzing the relationship between multiple variables simultaneously. In this case, we explore the relationship between multiple features and the target variable (customer churn) to understand how they are related when considered together.\n",
    "\n",
    "We used a correlation matrix to identify the correlation between different variables in the dataset."
   ]
  },
  {
   "cell_type": "code",
   "execution_count": null,
   "metadata": {
    "colab": {
     "base_uri": "https://localhost:8080/",
     "height": 1000
    },
    "id": "5NfJTHNrdMDV",
    "outputId": "23606c80-a9ad-4a9b-c886-36ca4c593152"
   },
   "outputs": [],
   "source": [
    "# Calculate the correlation matrix\n",
    "corr_matrix = df.corr()\n",
    "\n",
    "# Generate the correlation heatmap\n",
    "plt.figure(figsize=(12, 10))\n",
    "sns.heatmap(corr_matrix, annot=True, cmap='coolwarm', fmt=\".2f\", linewidths=0.5)\n",
    "plt.title('Correlation Matrix between Variables')\n",
    "plt.show();"
   ]
  },
  {
   "cell_type": "markdown",
   "metadata": {
    "id": "PFKnXc2Ae9oe"
   },
   "source": [
    "Through the correlation matrix, we have identified that `total international charge` has a perfect correlation with `total international minutes`, indicating multicollinearity. These two features appears to be independent, which means we can only use one when creating the model.\n",
    "\n",
    "Other features identified as significantly correlated to the target variable are `total minutes`, `total day charge`, and `customer service calls`."
   ]
  },
  {
   "cell_type": "markdown",
   "metadata": {
    "id": "kjq4lWZfgoqd"
   },
   "source": [
    "## Basic Data Preprocessing\n",
    "In this section, we proprocess the data to prepare it for modelling. In the dataset, we have `categorical` and `numeric data` columns, some of which must be tranformed into a datatype acceptable by the different machine learning models used in the modelling section.\n",
    "\n",
    "A good example would be using one-hot encoding to transform categorical columns with object datatypes to numerical ones, especially `1s` and `0s`\n",
    "\n",
    "We also drop features that have minimal or no effect on the target variables using ridge or lasso regression. We may also identify other frameworks for choosing the best features."
   ]
  },
  {
   "cell_type": "markdown",
   "metadata": {
    "id": "CZbIH7IT4jhs"
   },
   "source": [
    "**Step 1: Converting the data to numeric**\n",
    "\n",
    "We transform the categorical columns to numeric datatypes for modelling purposes. The columns to transform are `churn`, `area_code`, `international_plan`, and `voice_mail_plan`."
   ]
  },
  {
   "cell_type": "code",
   "execution_count": null,
   "metadata": {
    "id": "QgOdwaFJ4nEG"
   },
   "outputs": [],
   "source": [
    "#convert churn values to integer 1s and 0s\n",
    "df['churn'] = df['churn'].astype(int)\n",
    "\n",
    "#convert area_code, international plan, and voice_mail_plan to integers 1s and 0s\n",
    "df = pd.get_dummies(df, columns=['area_code', 'international_plan', 'voice_mail_plan'])"
   ]
  },
  {
   "cell_type": "markdown",
   "metadata": {},
   "source": [
    "We then review the dataframe to see if the changes have been effected"
   ]
  },
  {
   "cell_type": "code",
   "execution_count": null,
   "metadata": {
    "colab": {
     "base_uri": "https://localhost:8080/",
     "height": 393
    },
    "id": "4TgVXQJg5hwF",
    "outputId": "e1f5e8c0-8fa2-4444-c445-7107df9ed328"
   },
   "outputs": [],
   "source": [
    "#displace the first 10 records\n",
    "df.head(7)"
   ]
  },
  {
   "cell_type": "markdown",
   "metadata": {
    "id": "6uVSYaXuurJi"
   },
   "source": [
    "As seen above, all our columns are in numeric form, which means that our convertion has been successful. Our next step is to separate the target variable from the features, standardize the features, and address class imbalance in the target variable."
   ]
  },
  {
   "cell_type": "markdown",
   "metadata": {},
   "source": [
    "**Step 2: Separating features and target variable.** \n",
    "\n",
    "We do this by assigning the features to the `X` variable and the target variable to `y`"
   ]
  },
  {
   "cell_type": "code",
   "execution_count": null,
   "metadata": {
    "id": "sACiGHV1ouXQ"
   },
   "outputs": [],
   "source": [
    "#separating features from the target variable\n",
    "y = df['churn']\n",
    "X = df.drop(['churn', 'total_intl_minutes', 'state'], axis=1)"
   ]
  },
  {
   "cell_type": "markdown",
   "metadata": {
    "id": "2b-5XDKfyJOM"
   },
   "source": [
    "**Step 3: Conducting Train-Split-Test** \n",
    "\n",
    "We conduct a `train-test-split` on the data to have a section of the data for training the model and the remaining section for testing purposes."
   ]
  },
  {
   "cell_type": "code",
   "execution_count": null,
   "metadata": {
    "id": "Z-Yn3wbTyMTm",
    "scrolled": false
   },
   "outputs": [],
   "source": [
    "#split the data into train and test data\n",
    "X_train, X_test, y_train, y_test = train_test_split(X, y, test_size=0.2, random_state=42)"
   ]
  },
  {
   "cell_type": "markdown",
   "metadata": {
    "id": "yvGdJ1FzzC0q"
   },
   "source": [
    "**Step 4:** Standardizing the Data\n",
    "\n",
    "Standardizing data is the process of transforming the features in a dataset to have zero mean and unit variance. We do this to ensure that all features are on the same scale and to prevent features with larger scales from dominating the model. \n",
    "\n",
    "Besides, we has plotted two box-plots earlier and identified that there are many outliers for the different columns. Standardizing the data will prevent such outliers from affecting the performance of the model.\n",
    "\n",
    "We intend to use `K-Nearest Neighbors (KNN)` as one of the model, which operates under the assumptions that the data is the same scale. Is such an assumption is not met, the models may perform poorly.\n",
    "\n",
    "In that case, we use the `Standard Scaler` module from `scikit-learn`."
   ]
  },
  {
   "cell_type": "code",
   "execution_count": null,
   "metadata": {
    "id": "H3N9AyYxzG9M"
   },
   "outputs": [],
   "source": [
    "#instantiate the standard scaler\n",
    "scaler = StandardScaler()\n",
    "\n",
    "#fit and transform the features\n",
    "X_train_scaled = scaler.fit_transform(X_train)\n",
    "X_test_scaled = scaler.transform(X_test)\n",
    "\n",
    "X_train_scaled, X_test_scaled"
   ]
  },
  {
   "cell_type": "markdown",
   "metadata": {
    "id": "frUR9pjCwV9K"
   },
   "source": [
    "**Step 5:** Address `class imbalance` in the target variables\n",
    "\n",
    "As seen before, our target variable shows `85% customers` did not churn as compared to `15%` that churned, indicating a class imbalance, which can affect the performance of our machine learning models in several ways. For example, many machine learning algorithms are designed to maximize overall accuracy, which can lead them to predict the majority class for all observations. \n",
    "\n",
    "This can result in high accuracy, but low recall for the `minority class`, meaning that the model may fail to correctly identify many of the customers who churned.\n",
    "\n",
    "We will use the `Random Over Sampler` module to address this imbalance."
   ]
  },
  {
   "cell_type": "code",
   "execution_count": null,
   "metadata": {
    "id": "ewjS0acDwclK"
   },
   "outputs": [],
   "source": [
    "# Oversample the minority class\n",
    "oversampler = RandomOverSampler(random_state=42)\n",
    "X_train_resampled, y_train_resampled = oversampler.fit_resample(X_train_scaled, y_train)\n",
    "\n",
    "# Calculate class weights\n",
    "class_weights = dict(pd.Series(y_train_resampled).value_counts(normalize=True))"
   ]
  },
  {
   "cell_type": "markdown",
   "metadata": {
    "id": "zpKwG7T0xxKd"
   },
   "source": [
    "## Creating Our Models\n",
    "We `create several models`, `evaluate them`, then do some `hyper-parameter tuning` to try and improve the models. Our intention in this case is to find the model and parameters that perform the best.\n",
    "\n",
    "We train and evaluate the following models:\n",
    "+ Logistic Regression Model,\n",
    "+ K-Nearest Neighbors,\n",
    "+ Decision Trees, and\n",
    "+ Random Forests."
   ]
  },
  {
   "cell_type": "markdown",
   "metadata": {},
   "source": [
    "### Model 1: Logistic Regression Model\n",
    "Our first model is `Logistic Regression Model`. Logistic regression is a type of generalized linear model that can be used to predict the probability of a binary outcome, such as whether a customer will `churn or not`. \n",
    "\n",
    "In our case, we use `logistic regression` to model the relationship between the `our features` and the `likelihood of a customer churning`."
   ]
  },
  {
   "cell_type": "code",
   "execution_count": null,
   "metadata": {
    "colab": {
     "base_uri": "https://localhost:8080/",
     "height": 1000
    },
    "id": "AtIaQkAkeIpQ",
    "outputId": "7799cc2a-0547-49dc-e2ba-68b32e72c824"
   },
   "outputs": [],
   "source": [
    "# Initialize the logistic regression model\n",
    "logreg_model = LogisticRegression()\n",
    "\n",
    "# Fit the model on the scaled and resampled training data\n",
    "logreg_model.fit(X_train_resampled, y_train_resampled)\n",
    "\n",
    "# Predict churn for the train and test data\n",
    "y_train_pred = logreg_model.predict(X_train_scaled)\n",
    "y_test_pred = logreg_model.predict(X_test_scaled)\n",
    "\n",
    "# Calculate the accuracy of the model for train and test data\n",
    "train_accuracy = accuracy_score(y_train, y_train_pred)\n",
    "test_accuracy = accuracy_score(y_test, y_test_pred)\n",
    "\n",
    "# Print the train and test scores\n",
    "print(f\"Train Accuracy: {train_accuracy:.2f}\")\n",
    "print(f\"Test Accuracy: {test_accuracy:.2f}\")\n",
    "\n",
    "# Print the classification report for test data\n",
    "print(\"Classification Report (Test Data):\")\n",
    "print(classification_report(y_test, y_test_pred))"
   ]
  },
  {
   "cell_type": "markdown",
   "metadata": {},
   "source": [
    "Our report shows that the model has a `high precision (0.95)` for predicting customers who have not churned `(class 0)`, meaning that when the model predicts that a customer has `not churned`, it is correct `95%` of the time. However, the precision for predicting customers who have `churned (class 1)` is much lower `(0.37)`, meaning that when the model predicts that a customer has churned, it is only correct about `37%` of the time.\n",
    "\n",
    "The recall for `class 0 is 0.77`, meaning that the model correctly identifies about `77%` of all customers who have not churned. The recall for `class 1 is higher at 0.78`, meaning that the model correctly identifies about `78% of all customers` who have churned.\n",
    "\n",
    "The F1-score is a measure of the balance between precision and recall. The F1-score for `class 0 is higher (0.85)` than for `class 1 (0.50)`, indicating that the model performs better at identifying customers who have not churned than customers who have churned.\n",
    "\n",
    "Now, we plot an `ROC curve` and `Confusion Matrix` to visualize that..."
   ]
  },
  {
   "cell_type": "code",
   "execution_count": null,
   "metadata": {},
   "outputs": [],
   "source": [
    "# Plot the ROC curve for test data\n",
    "y_prob = logreg_model.predict_proba(X_test_scaled)[:, 1]  # Probability of positive class (churned)\n",
    "fpr, tpr, thresholds = roc_curve(y_test, y_prob)\n",
    "roc_auc = roc_auc_score(y_test, y_prob)\n",
    "\n",
    "# Create a figure with two subplots\n",
    "fig, (ax1, ax2) = plt.subplots(nrows=1, ncols=2, figsize=(16, 8))\n",
    "\n",
    "# Plot the ROC curve in the first subplot\n",
    "ax1.plot(fpr, tpr, color='b', lw=2, label=f'ROC curve (AUC = {roc_auc:.2f})')\n",
    "ax1.plot([0, 1], [0, 1], color='gray', linestyle='--')\n",
    "ax1.set_xlim([0.0, 1.0])\n",
    "ax1.set_ylim([0.0, 1.0])\n",
    "ax1.set_xlabel('False Positive Rate')\n",
    "ax1.set_ylabel('True Positive Rate')\n",
    "ax1.set_title('Receiver Operating Characteristic (ROC) Curve')\n",
    "ax1.legend(loc=\"lower right\")\n",
    "\n",
    "# Plot the confusion matrix as a heatmap in the second subplot\n",
    "confusion_mat = confusion_matrix(y_test, y_test_pred)\n",
    "sns.heatmap(confusion_mat, annot=True, fmt=\"d\", cmap='Blues', cbar=False, ax=ax2)\n",
    "ax2.set_xlabel('Predicted Label')\n",
    "ax2.set_ylabel('True Label')\n",
    "ax2.set_title('Confusion Matrix (Test Data)')\n",
    "\n",
    "plt.tight_layout()\n",
    "plt.show()"
   ]
  },
  {
   "cell_type": "markdown",
   "metadata": {
    "id": "A45VMVyrB04k"
   },
   "source": [
    "**Confusion Matrix:**\n",
    "+ True Positives (TP): The model correctly predicted `433 samples as Not churned (class 0)`.\n",
    "+ True Negatives (TN): The model correctly predicted `18 samples as churned (class 1)`.\n",
    "+ False Positives (FP): The model incorrectly predicted `12 samples as churned` when they were not churned.\n",
    "+ False Negatives (FN): The model incorrectly predicted `83 samples as not churned` when they were churned.\n",
    "\n",
    "**The ROC curve (Receiver Operating Characteristic curve) & The AUC (Area Under the Curve**\n",
    "-They provide a measure of how well the model can distinguish between positive and negative samples. A model with an `AUC of 1 is perfect`, while an `AUC of 0.5` or less indicates that the model is no better than random guessing.\n",
    "\n",
    "In our case, the `AUC is 0.83`, which is greater than 0.5 and closer to 1. This indicates that the logistic regression model has reasonable discriminatory power in distinguishing between churned and not churned samples. An `AUC of 0.83` suggests that the model has a good ability to rank the predictions, and it performs significantly better than random guessing.\n",
    "\n",
    "**Interpretation**:\n",
    "The model performs well in predicting the `negative class (not churned)` as evidenced by `high accuracy`, `precision`, and `recall` for class 0. However, it performs poorly for the `positive class (churned)` as indicated by the low values for `precision`, `recall`, and `F1-score` for class 1.\n",
    "\n",
    "In other words, the model is missing a substantial number of customers who are actually churned, leading to false negatives. It is failing to correctly identify those customers who have churned. Hence, this model though better than guessing can have serious implications to the business as it fails to predict churned customers on a significant level."
   ]
  },
  {
   "cell_type": "markdown",
   "metadata": {
    "id": "n_Y-LcZ9KIar"
   },
   "source": [
    "**Logistic Regression Model with Penalty**\n",
    "\n",
    "Trying to Adjust the model to adjust for class imbalance in the target variable to see if there are any improvements"
   ]
  },
  {
   "cell_type": "code",
   "execution_count": null,
   "metadata": {},
   "outputs": [],
   "source": [
    "# Initialize the logistic regression model\n",
    "logreg_model = LogisticRegression(class_weight=class_weights)\n",
    "\n",
    "# Fit the model on the scaled and resampled training data\n",
    "logreg_model.fit(X_train_resampled, y_train_resampled)\n",
    "\n",
    "# Predict churn for the train and test data\n",
    "y_train_pred = logreg_model.predict(X_train_scaled)\n",
    "y_test_pred = logreg_model.predict(X_test_scaled)\n",
    "\n",
    "# Calculate the accuracy of the model for train and test data\n",
    "train_accuracy_1 = accuracy_score(y_train, y_train_pred)\n",
    "test_accuracy_1 = accuracy_score(y_test, y_test_pred)\n",
    "\n",
    "# Print the train and test scores\n",
    "print(f\"Train Accuracy: {train_accuracy_1:.2f}\")\n",
    "print(f\"Test Accuracy: {test_accuracy_1:.2f}\")\n",
    "\n",
    "# Print the classification report for test data\n",
    "print(\"Classification Report (Test Data):\")\n",
    "print(classification_report(y_test, y_test_pred))\n",
    "\n",
    "# Print the confusion matrix\n",
    "print(\"Confusion Matrix:\")\n",
    "print(confusion_matrix(y_test, y_pred))"
   ]
  },
  {
   "cell_type": "code",
   "execution_count": null,
   "metadata": {
    "colab": {
     "base_uri": "https://localhost:8080/",
     "height": 1000
    },
    "id": "4d82FtbNKHbt",
    "outputId": "771c2dfd-e2f7-41f6-a9a0-f27237d76476"
   },
   "outputs": [],
   "source": [
    "# Plot the ROC curve\n",
    "y_prob = logreg_model.predict_proba(X_test_scaled)[:, 1]  # Probability of positive class (churned)\n",
    "fpr, tpr, thresholds = roc_curve(y_test, y_prob)\n",
    "roc_auc = roc_auc_score(y_test, y_prob)\n",
    "\n",
    "# Create a figure with two subplots\n",
    "fig, (ax1, ax2) = plt.subplots(nrows=1, ncols=2, figsize=(16, 6))\n",
    "\n",
    "# Plot the ROC curve in the first subplot\n",
    "ax1.plot(fpr, tpr, color='b', lw=2, label=f'ROC curve (AUC = {roc_auc:.2f})')\n",
    "ax1.plot([0, 1], [0, 1], color='gray', linestyle='--')\n",
    "ax1.set_xlim([0.0, 1.0])\n",
    "ax1.set_ylim([0.0, 1.0])\n",
    "ax1.set_xlabel('False Positive Rate')\n",
    "ax1.set_ylabel('True Positive Rate')\n",
    "ax1.set_title('Receiver Operating Characteristic (ROC) Curve')\n",
    "ax1.legend(loc=\"lower right\")\n",
    "\n",
    "# Plot the confusion matrix as a heatmap in the second subplot\n",
    "confusion_mat = confusion_matrix(y_test, y_test_pred)\n",
    "sns.heatmap(confusion_mat, annot=True, fmt=\"d\", cmap='Blues', cbar=False, ax=ax2)\n",
    "ax2.set_xlabel('Predicted Label')\n",
    "ax2.set_ylabel('True Label')\n",
    "ax2.set_title('Confusion Matrix')\n",
    "\n",
    "plt.tight_layout()\n",
    "plt.show()"
   ]
  },
  {
   "cell_type": "markdown",
   "metadata": {
    "id": "SiNaTDQV7o47"
   },
   "source": [
    "**REBALANCED LOGISTIC MODEL INTEPRETATIONS**\n",
    "\n",
    "\n",
    "Train Accuracy: 0.77 compared to previous model 0.86\n",
    "Test Accuracy: 0.76 compared to the previous 0.86\n",
    "Classification Report:\n",
    "precision class 0 0.94 compared to previous 0.87\n",
    "precision class 1 0.35 compared to 0.35\n",
    "recall class 0 0.76 compared to 0.98\n",
    "recall class 1 0.73 compared to 0.18\n",
    "f1score class 0 0.84 compared to 0.92\n",
    "f1score class 1 0.47 compared to 0.27\n",
    "\n",
    "confusion Matrix:\n",
    " [[436 134][26 71]] compared to previous [[554 12] [83 18]]\n",
    " [ 26  71]]\n",
    "\n",
    "Interpreting the classification report and confusion matrix:\n",
    "\n",
    "1. Train Accuracy: 0.77\n",
    "   Test Accuracy: 0.76\n",
    "\n",
    "The model achieved an accuracy of 77% on the training data and 76% on the test data. This means that the model is performing relatively well on the unseen test data, which indicates that it is not overfitting.\n",
    "\n",
    "2. Classification Report:\n",
    "   \n",
    "   - Precision: For class 0 (not churned), the precision is 94%, meaning that when the model predicts a customer won't churn, it is correct 94% of the time. For class 1 (churned), the precision is only 35%, indicating that when the model predicts a customer will churn, it is correct only 35% of the time.\n",
    "\n",
    "   - Recall:For class 0 (not churned), the recall is 76%, indicating that the model correctly identifies 76% of the actual non-churned customers. For class 1 (churned), the recall is 73%, meaning that the model captures 73% of the actual churned customers.\n",
    "\n",
    "   - F1-score: The F1-score is the harmonic mean of precision and recall and provides a balance between the two. For class 0, the F1-score is 84%, and for class 1, it is 47%.\n",
    "\n",
    "   - Support: The number of occurrences of each class in the test set. For class 0, there are 570 instances, and for class 1, there are 97 instances.\n",
    "\n",
    "3. Confusion Matrix:\n",
    "   The confusion matrix provides a detailed breakdown of the model's performance in predicting each class.\n",
    "\n",
    "   - True Negative (TN): 436 - The number of correctly predicted non-churned customers.\n",
    "   - False Positive (FP): 134 - The number of non-churned customers incorrectly classified as churned.\n",
    "   - False Negative (FN): 26 - The number of churned customers incorrectly classified as non-churned.\n",
    "   - True Positive (TP): 71 - The number of correctly predicted churned customers.\n",
    "\n",
    "4. ROC curve (AUC = 0.81):\n",
    " An AUC (Area Under the Curve) value of 0.81 indicates that the model has good discriminative power and is reasonably effective at distinguishing between the two classes.\n",
    "\n",
    "In summary, the model seems to perform well in predicting non-churned customers (class 0) with high precision and recall. However, its performance on predicting minority class (churned customers) (class 1) is not as good, with relatively lower precision and recall.\n",
    "\n",
    "**There is a slight improvement on the previous model in predicting the churned customers comparing to guess work but the model is still not great**"
   ]
  },
  {
   "cell_type": "code",
   "execution_count": null,
   "metadata": {
    "colab": {
     "base_uri": "https://localhost:8080/",
     "height": 564
    },
    "id": "af5FMITvKSHF",
    "outputId": "ce511e5e-8d2d-4d9a-8899-c5622cca2155"
   },
   "outputs": [],
   "source": [
    "\n",
    "\n",
    "# Get the coefficients of the logistic regression model2\n",
    "coefficients = model_pipeline.named_steps['classifier'].coef_[0]\n",
    "\n",
    "# Create a DataFrame to display the coefficients along with the corresponding feature names\n",
    "coefficients_df = pd.DataFrame({'Feature': X.columns, 'Coefficient': coefficients})\n",
    "\n",
    "# Sort the DataFrame by absolute coefficient values to see the most impactful features\n",
    "coefficients_df['Abs_Coefficient'] = np.abs(coefficients_df['Coefficient'])\n",
    "coefficients_df = coefficients_df.sort_values(by='Abs_Coefficient', ascending=False)\n",
    "\n",
    "# Plot the coefficients\n",
    "plt.figure(figsize=(10, 6))\n",
    "plt.barh(coefficients_df['Feature'], coefficients_df['Coefficient'])\n",
    "plt.xlabel('Coefficient')\n",
    "plt.ylabel('Feature')\n",
    "plt.title('Impact of Features on Churn')\n",
    "plt.show()\n"
   ]
  },
  {
   "cell_type": "code",
   "execution_count": null,
   "metadata": {
    "colab": {
     "base_uri": "https://localhost:8080/",
     "height": 770
    },
    "id": "zprdJh3WKsSC",
    "outputId": "ea3e922d-2960-4bff-c1f7-9fd6fe4ca005"
   },
   "outputs": [],
   "source": [
    "#see the actual coefficient arranged in descending ordger\n",
    "coefficients_df"
   ]
  },
  {
   "cell_type": "markdown",
   "metadata": {
    "id": "-tupMVvlLy_n"
   },
   "source": [
    "**Coefficients and their absolute values for each feature from the logistic regression model**.\n",
    "\n",
    "These coefficients provide insights into the impact of each feature on the likelihood of churn (negative/undesired impact) or not churn (positive/desired impact).\n",
    "\n",
    "**In summary Positive coefficients indicate features that increase the likelihood of churn, while negative coefficients indicate features that decrease the likelihood of churn.**\n",
    "\n",
    "By understanding these effects, you can identify important features that contribute to customer churn and potentially take actions to reduce churn and retain valuable customers.\n",
    "- **customer_service_calls**: This feature has the highest positive impact on churn. An increase in the number of customer service calls is associated with a higher likelihood of churn.\n",
    "\n",
    "- **total_day_charge and total_day_minutes:** Both features have a positive impact on churn. An increase in total day charge or total day minutes is associated with a higher likelihood of churn.\n",
    "\n",
    "- **voice_mail_plan_yes and voice_mail_plan_no:** These binary features are related to the presence or absence of a voice mail plan. voice_mail_plan_yes has a negative impact on churn, meaning customers with a voice mail plan are less likely to churn, while voice_mail_plan_no has a positive impact, meaning customers without a voice mail plan are more likely to churn.\n",
    "\n",
    "- **international_plan_yes and international_plan_no**: Similar to the voice mail plan features, international_plan_yes has a positive impact on churn, meaning customers with an international plan are more likely to churn, while international_plan_no has a negative impact, meaning customers without an international plan are less likely to churn.\n",
    "\n",
    "- total_intl_calls: This feature has a negative impact on churn. An increase in the number of international calls is associated with a lower likelihood of churn.\n",
    "\n",
    "- **number_vmail_messages**: This feature has a positive impact on churn. An increase in the number of voice mail messages is associated with a higher likelihood of churn.\n",
    "\n",
    "- **total_eve_minutes and total_intl_charge**: These features have a positive impact on churn. An increase in total evening minutes or total international charge is associated with a higher likelihood of churn.\n",
    "\n",
    "- **total_eve_charge, total_intl_minutes, total_night_minutes, and total_night_charge:** These features also have a positive impact on churn. An increase in the respective charges and minutes is associated with a higher likelihood of churn.\n",
    "\n",
    "- **area_code_510, area_code_415, and area_code_408**: These binary features represent different area codes. area_code_510 has a positive impact on churn, while area_code_415 and area_code_408 have negative impacts. This suggests that customers from area_code_510 are more likely to churn compared to customers from the other two area codes.\n",
    "\n",
    "- **account_length and phone_number**: These features have relatively smaller impacts on churn, but both have positive coefficients, indicating a higher account length or phone number is associated with a slightly higher likelihood of churn.\n",
    "\n",
    "- **total_day_calls and total_night_calls**: These features have relatively smaller impacts on churn, and they both have negative coefficients, indicating a higher number of day or night calls is associated with a slightly lower likelihood of churn."
   ]
  },
  {
   "cell_type": "markdown",
   "metadata": {
    "id": "a3i35IRV6JJH"
   },
   "source": [
    "**Model 2: K-Nearest Neighbors**"
   ]
  },
  {
   "cell_type": "markdown",
   "metadata": {
    "id": "yjG2g44yNcxG"
   },
   "source": [
    "***Baseline Model***: Here we build the first K-Nearest Neighbors model with default parameters"
   ]
  },
  {
   "cell_type": "code",
   "execution_count": null,
   "metadata": {
    "colab": {
     "base_uri": "https://localhost:8080/"
    },
    "id": "v7B3M1LK6RPF",
    "outputId": "53d61a56-6b12-4ebf-d0bf-e5b7dfc651d8"
   },
   "outputs": [],
   "source": [
    "#instantiate the standard scaler\n",
    "scaler = StandardScaler()\n",
    "\n",
    "#fit and transform the features\n",
    "X_train_scaled = scaler.fit_transform(X_train)\n",
    "X_test_scaled = scaler.transform(X_test)\n",
    "\n",
    "# Initialize the KNN classifier\n",
    "knn = KNeighborsClassifier(n_neighbors=5,  weights='uniform')\n",
    "\n",
    "# Train the classifier on the training data\n",
    "knn.fit(X_train_scaled, y_train)\n",
    "\n",
    "# Make predictions on the testing data\n",
    "y_pred = knn.predict(X_test_scaled)\n",
    "\n",
    "# Evaluate the model's performance\n",
    "accuracy_knn = accuracy_score(y_test, y_pred)\n",
    "precision_knn = precision_score(y_test, y_pred)\n",
    "recall_knn = recall_score(y_test, y_pred)\n",
    "f1_knn = f1_score(y_test, y_pred)\n",
    "\n",
    "# Print the evaluation metrics\n",
    "print(\"Accuracy:\", accuracy_knn)\n",
    "print(\"Precision:\", precision_knn)\n",
    "print(\"Recall:\", recall_knn)\n",
    "print(\"F1-score:\", f1_knn)\n",
    "\n",
    "#Calculate train and test scores\n",
    "train_score = knn.score(X_train_scaled, y_train)\n",
    "test_score = knn.score(X_test_scaled, y_test)\n",
    "\n",
    "print(train_score)\n",
    "print(test_score)"
   ]
  },
  {
   "cell_type": "markdown",
   "metadata": {
    "id": "8GZUjdA8db_Z"
   },
   "source": [
    "***`Ensemble Methods`***: To improve the baseline KNN model, we combined multiple KNN models by using the ensemble technique Bagging to create a more robust and accurate classifier."
   ]
  },
  {
   "cell_type": "code",
   "execution_count": null,
   "metadata": {
    "colab": {
     "base_uri": "https://localhost:8080/"
    },
    "id": "avNOu6i_dlDl",
    "outputId": "0d04ecc3-9c25-4570-90a7-a4acd3c64ac3"
   },
   "outputs": [],
   "source": [
    "# Building an ensemble KNN model using Bagging\n",
    "from sklearn.ensemble import BaggingClassifier\n",
    "\n",
    "# Instantiate the KNN classifier\n",
    "knn = KNeighborsClassifier(n_neighbors=5)\n",
    "\n",
    "# Instantiate the BaggingClassifier with KNN as the base estimator\n",
    "bagging_knn = BaggingClassifier(base_estimator=knn, n_estimators=10, random_state=42)\n",
    "\n",
    "# Train the ensemble model on the training data\n",
    "bagging_knn.fit(X_train_scaled, y_train)\n",
    "\n",
    "# Make predictions on the testing data\n",
    "y_pred_bagging = bagging_knn.predict(X_test_scaled)\n",
    "\n",
    "# Evaluate the model's performance\n",
    "accuracy_bagging_knn = accuracy_score(y_test, y_pred_bagging)\n",
    "precision_bagging_knn = precision_score(y_test, y_pred_bagging)\n",
    "recall_bagging_knn = recall_score(y_test, y_pred_bagging)\n",
    "f1_bagging_knn = f1_score(y_test, y_pred_bagging)\n",
    "\n",
    "# Print the evaluation metrics\n",
    "print(\"Accuracy:\", accuracy_bagging_knn)\n",
    "print(\"Precision:\", precision_bagging_knn)\n",
    "print(\"Recall:\", recall_bagging_knn)\n",
    "print(\"F1-score:\", f1_bagging_knn)\n",
    "\n",
    "#Calculate train and test scores\n",
    "bagging_knn_train_score = bagging_knn.score(X_train_scaled, y_train)\n",
    "bagging_knn_test_score = bagging_knn.score(X_test_scaled, y_test)\n",
    "\n",
    "print(bagging_knn_train_score)\n",
    "print(bagging_knn_test_score)"
   ]
  },
  {
   "cell_type": "markdown",
   "metadata": {
    "id": "aLUS-MToYCFq"
   },
   "source": [
    "*Grid search and hyperparameter tuning* -\n",
    "Here we were looking to find the best parameters for the model. The n_neighbors(K value) parameter, weight and distance metric to use. We also did cross validation to avoid overfitting.\n",
    "\n",
    "This emerged as the best KNN model, although slightly better than the others."
   ]
  },
  {
   "cell_type": "code",
   "execution_count": null,
   "metadata": {
    "colab": {
     "base_uri": "https://localhost:8080/"
    },
    "id": "9NFMChuvAXmE",
    "outputId": "f9aace9d-9bd0-47d7-b445-2a75d7fe3ea7"
   },
   "outputs": [],
   "source": [
    "from sklearn.model_selection import GridSearchCV\n",
    "\n",
    "# Define the parameter grid to search through\n",
    "param_grid = {\n",
    "    'n_neighbors': [3, 5, 7, 9],        # Number of neighbors to consider\n",
    "    'weights': ['uniform', 'distance'], # Weight function used in prediction\n",
    "    'p': [1, 2]                         # Power parameter for Minkowski distance\n",
    "}\n",
    "\n",
    "# Initialize the KNN classifier\n",
    "knn = KNeighborsClassifier()\n",
    "\n",
    "# Create GridSearchCV\n",
    "grid_search = GridSearchCV(knn, param_grid, cv=5, scoring='accuracy')\n",
    "\n",
    "# Fit the GridSearchCV to the scaled training data\n",
    "grid_search.fit(X_train_scaled, y_train)\n",
    "\n",
    "# Get the best hyperparameters found by GridSearch\n",
    "best_params = grid_search.best_params_\n",
    "\n",
    "# Print the best hyperparameters\n",
    "print(\"Best Hyperparameters:\", best_params)\n",
    "\n",
    "# Create a new KNN classifier with the best hyperparameters\n",
    "best_knn = KNeighborsClassifier(n_neighbors=best_params['n_neighbors'],\n",
    "                                weights=best_params['weights'],\n",
    "                                p=best_params['p'])\n",
    "\n",
    "# Train the best KNN classifier on the training data\n",
    "best_knn.fit(X_train_scaled, y_train)\n",
    "\n",
    "# Make predictions on the testing data using the best KNN classifier\n",
    "y_pred_best = best_knn.predict(X_test_scaled)\n",
    "\n",
    "# Evaluate the best KNN model's performance\n",
    "accuracy_best_knn = accuracy_score(y_test, y_pred_best)\n",
    "precision_best_knn = precision_score(y_test, y_pred_best)\n",
    "recall_best_knn = recall_score(y_test, y_pred_best)\n",
    "f1_best_knn = f1_score(y_test, y_pred_best)\n",
    "\n",
    "# Print the evaluation metrics of the best KNN model\n",
    "print(\"\\nBest KNN Model Performance:\")\n",
    "print(\"Accuracy:\", accuracy_best_knn)\n",
    "print(\"Precision:\", precision_best_knn)\n",
    "print(\"Recall:\", recall_best_knn)\n",
    "print(\"F1-score:\", f1_best_knn)\n",
    "\n",
    "#Calculate train and test scores\n",
    "best_knn_train_score = best_knn.score(X_train_scaled, y_train)\n",
    "best_knn_test_score = best_knn.score(X_test_scaled, y_test)\n",
    "\n",
    "print(best_knn_train_score)\n",
    "print(best_knn_test_score)"
   ]
  },
  {
   "cell_type": "code",
   "execution_count": null,
   "metadata": {
    "colab": {
     "base_uri": "https://localhost:8080/",
     "height": 472
    },
    "id": "q7d6QLwACU1f",
    "outputId": "b0383ce6-5e0b-4c9a-df1d-ebdb1566475f"
   },
   "outputs": [],
   "source": [
    "import matplotlib.pyplot as plt\n",
    "import numpy as np\n",
    "from sklearn.model_selection import learning_curve\n",
    "\n",
    "def plot_learning_curve(estimator, title, X, y, cv, train_sizes=np.linspace(0.1, 1.0, 5)):\n",
    "    train_sizes, train_scores, test_scores = learning_curve(\n",
    "        estimator, X, y, cv=cv, train_sizes=train_sizes, scoring='accuracy', n_jobs=-1\n",
    "    )\n",
    "    train_scores_mean = np.mean(train_scores, axis=1)\n",
    "    train_scores_std = np.std(train_scores, axis=1)\n",
    "    test_scores_mean = np.mean(test_scores, axis=1)\n",
    "    test_scores_std = np.std(test_scores, axis=1)\n",
    "\n",
    "    plt.figure()\n",
    "    plt.title(title)\n",
    "    plt.xlabel(\"Training examples\")\n",
    "    plt.ylabel(\"Accuracy\")\n",
    "    plt.grid()\n",
    "    plt.fill_between(train_sizes, train_scores_mean - train_scores_std, train_scores_mean + train_scores_std, alpha=0.1, color=\"r\")\n",
    "    plt.fill_between(train_sizes, test_scores_mean - test_scores_std, test_scores_mean + test_scores_std, alpha=0.1, color=\"g\")\n",
    "    plt.plot(train_sizes, train_scores_mean, 'o-', color=\"r\", label=\"Training accuracy\")\n",
    "    plt.plot(train_sizes, test_scores_mean, 'o-', color=\"g\", label=\"Testing accuracy\")\n",
    "    plt.legend(loc=\"best\")\n",
    "    plt.show()\n",
    "\n",
    "# Assuming you have already defined X_train_scaled and y_train\n",
    "# best_model is the best KNN model from the grid search\n",
    "plot_learning_curve(best_knn, \"Learning Curve of KNN with Hyperparameter Tuning and GridSearch\", X_train_scaled, y_train, cv=5)\n"
   ]
  },
  {
   "cell_type": "code",
   "execution_count": null,
   "metadata": {
    "colab": {
     "base_uri": "https://localhost:8080/",
     "height": 410
    },
    "id": "clqn3j6jlPyR",
    "outputId": "b46d88d3-919b-488a-ce74-39e0e89f1387"
   },
   "outputs": [],
   "source": [
    "# Build the confusion matrix\n",
    "cm = confusion_matrix(y_test, y_pred_best)\n",
    "\n",
    "# Create a heatmap for the confusion matrix\n",
    "plt.figure(figsize=(6, 4))\n",
    "sns.heatmap(cm, annot=True, fmt=\"d\", cmap=\"Blues\")\n",
    "plt.xlabel('Predicted')\n",
    "plt.ylabel('True')\n",
    "plt.title('Confusion Matrix')\n",
    "plt.show()"
   ]
  },
  {
   "cell_type": "code",
   "execution_count": null,
   "metadata": {
    "colab": {
     "base_uri": "https://localhost:8080/"
    },
    "id": "zAndz1uo5zag",
    "outputId": "33fc7c8f-19d5-4a8f-ba49-b234deb8660d"
   },
   "outputs": [],
   "source": [
    "from sklearn.metrics import classification_report\n",
    "\n",
    "# Print the classification report\n",
    "print(\"Classification Report:\")\n",
    "print(classification_report(y_test, y_pred_best))\n"
   ]
  },
  {
   "cell_type": "markdown",
   "metadata": {
    "id": "Woi_R4EjOsz_"
   },
   "source": [
    "Intepreting results for the best KNN model:\n",
    "- *Accuracy*: The accuracy of approximately `88.16%` means that the model correctly predicted the churn status of around `88.16%` of the customers in the test dataset.\n",
    "- *Precision*: With a precision of approximately `73.91%,` the KNN model makes a correct prediction that a customer will churn about `73.91%` of the time\n",
    "- *Recall*: The recall of approximately `33.66%` means that the model correctly identifies only around `33.66%` of the actual churned customers in the dataset\n",
    "- *F1-score*: The F1-score of approximately 46.26% is the harmonic mean of precision and recall\n",
    "- *Training and Testing Accuracy*: The model has a higher accuracy on the `training set (91.19%)` compared to the `testing set (88.16%)`. This scores show that the model is performing fairly well in predicting both the train and test scores"
   ]
  },
  {
   "cell_type": "markdown",
   "metadata": {
    "id": "RwY1U9ST6-7l"
   },
   "source": [
    "**Model 3: Decision Tree Classifier**\n",
    "\n",
    "***Building the Model***"
   ]
  },
  {
   "cell_type": "markdown",
   "metadata": {
    "id": "VTup9ZuKpvgA"
   },
   "source": [
    "Based on the original split, we will train, test and evaluate the same uusind Decision Tree Classifier. We will start by calling the DecisionTreeClassifier and feed the model with both X_train and y_train data"
   ]
  },
  {
   "cell_type": "code",
   "execution_count": null,
   "metadata": {
    "id": "nAmP3rtf7R6W"
   },
   "outputs": [],
   "source": [
    "#categorical_features = ['area_code_408', 'area_code_415', 'area_code_510', 'international_plan_no',\n",
    "       #                 'international_plan_yes', 'voice_mail_plan_no', 'voice_mail_plan_yes']\n",
    "\n",
    "# Initialize the Decision Tree Classifier\n",
    "clf = DecisionTreeClassifier(random_state=42)\n",
    "\n",
    "# Train the classifier on the encoded training data\n",
    "clf.fit(X_train, y_train)\n",
    "\n",
    "# Make predictions on the encoded testing data\n",
    "y_pred = clf.predict(X_test)"
   ]
  },
  {
   "cell_type": "markdown",
   "metadata": {
    "id": "KD5Wu_QDpvgA"
   },
   "source": [
    "***Evaluate the Model***\n",
    "\n",
    "Given that we have the model, we will evaluate it to get the accuracy, precision, recall and f1_score"
   ]
  },
  {
   "cell_type": "code",
   "execution_count": null,
   "metadata": {
    "colab": {
     "base_uri": "https://localhost:8080/"
    },
    "id": "LE4m49iqpvgA",
    "outputId": "07fe6ef2-5861-4bf3-d4bb-64a1e0cafbba"
   },
   "outputs": [],
   "source": [
    "# Evaluate the model's performance\n",
    "clf_accuracy = accuracy_score(y_test, y_pred)\n",
    "clf_precision = precision_score(y_test, y_pred)\n",
    "clf_recall = recall_score(y_test, y_pred)\n",
    "clf_f1 = f1_score(y_test, y_pred)\n",
    "\n",
    "print('Accuracy ', clf_accuracy)\n",
    "print('Precision ', clf_precision)\n",
    "print('Recall ', clf_recall)\n",
    "print('f1_Score ', clf_f1)\n",
    "\n",
    "#Calculate train and test scores\n",
    "train_score = clf.score(X_train, y_train)\n",
    "test_score = clf.score(X_test, y_test)\n",
    "\n",
    "print('train score ', train_score)\n",
    "print('test score ', test_score)\n"
   ]
  },
  {
   "cell_type": "markdown",
   "metadata": {
    "id": "3wTZUl5V5RtP"
   },
   "source": [
    "*Generalization and Vsualization*\n",
    "\n",
    "Below code cell shows the generalization, visualization and display of the decision tree"
   ]
  },
  {
   "cell_type": "code",
   "execution_count": null,
   "metadata": {
    "id": "9SX26kUApvgB"
   },
   "outputs": [],
   "source": [
    "# importing the graphviz libration for generalization and visualization\n",
    "from sklearn.tree import export_graphviz\n",
    "import graphviz"
   ]
  },
  {
   "cell_type": "code",
   "execution_count": null,
   "metadata": {
    "id": "yC1AMfdjpvgB"
   },
   "outputs": [],
   "source": [
    "# # doing reneralization of the model\n",
    "dot_data= export_graphviz(clf, out_file=None,\n",
    "                    feature_names=X_test.columns,\n",
    "                      class_names=['0', '1'],\n",
    "                      filled=True, rounded=True,\n",
    "                      special_characters=True)"
   ]
  },
  {
   "cell_type": "code",
   "execution_count": null,
   "metadata": {
    "colab": {
     "base_uri": "https://localhost:8080/",
     "height": 1000
    },
    "id": "J1Ak2nNkpvgB",
    "outputId": "35568bd5-81d7-469e-db60-55ad2c369173"
   },
   "outputs": [],
   "source": [
    "# doing visualization of the model\n",
    "graph1=graphviz.Source(dot_data)\n",
    "graph1"
   ]
  },
  {
   "cell_type": "markdown",
   "metadata": {
    "id": "5iqTVzvxxX5p"
   },
   "source": [
    "*Improving the model using SMOTE*"
   ]
  },
  {
   "cell_type": "code",
   "execution_count": null,
   "metadata": {
    "colab": {
     "base_uri": "https://localhost:8080/"
    },
    "id": "NJ3vLcueFG73",
    "outputId": "643984b5-456c-437a-edd8-91de04df703a"
   },
   "outputs": [],
   "source": [
    "# Apply SMOTE to the training data\n",
    "smote = SMOTE(random_state=42)\n",
    "X_train_smote, y_train_smote = smote.fit_resample(X_train, y_train)\n",
    "\n",
    "# Train a Decision Tree Classifier on the oversampled data\n",
    "dt_smote = DecisionTreeClassifier(random_state=42)\n",
    "dt_smote.fit(X_train_smote, y_train_smote)\n",
    "\n",
    "# Make predictions on the test set\n",
    "y_pred_smote = dt_smote.predict(X_test)\n",
    "\n",
    "# Calculate the accuracy of the model\n",
    "accuracy_smote = accuracy_score(y_test, y_pred_smote)\n",
    "precision_smote = precision_score(y_test, y_pred_smote)\n",
    "recall_smote = recall_score(y_test, y_pred_smote)\n",
    "f1_smote = f1_score(y_test, y_pred_smote)\n",
    "\n",
    "# Generate a classification report\n",
    "classification_rep_smote = classification_report(y_test, y_pred_smote)\n",
    "\n",
    "print(classification_rep_smote)"
   ]
  },
  {
   "cell_type": "code",
   "execution_count": null,
   "metadata": {
    "colab": {
     "base_uri": "https://localhost:8080/"
    },
    "id": "T_y0lbnl-Kd4",
    "outputId": "37ebf76e-dea0-4b2c-cde4-6649b82b6993"
   },
   "outputs": [],
   "source": [
    "# Print the evaluation metrics\n",
    "print(\"Accuracy:\", accuracy_smote)\n",
    "print(\"Precision:\", precision_smote)\n",
    "print(\"Recall:\", recall_smote)\n",
    "print(\"F1-score:\", f1_smote)\n",
    "\n",
    "#Calculate train and test scores\n",
    "train_score = dt_smote.score(X_train_smote, y_train_smote)\n",
    "test_score = dt_smote.score(X_test, y_test)\n",
    "\n",
    "print('train score', train_score)\n",
    "print('test score', test_score)"
   ]
  },
  {
   "cell_type": "markdown",
   "metadata": {
    "id": "qQsqOoC64F96"
   },
   "source": [
    "*Generalization and Vsualization*\n",
    "\n",
    "Below code cell shows the generalization, visualization and display of the decision tree"
   ]
  },
  {
   "cell_type": "code",
   "execution_count": null,
   "metadata": {
    "colab": {
     "base_uri": "https://localhost:8080/",
     "height": 1000
    },
    "id": "gwsFuIV7ySw1",
    "outputId": "7d1e423e-a788-41a2-e59c-5b5a453f6071"
   },
   "outputs": [],
   "source": [
    "# doing reneralization of the model\n",
    "dot_data= export_graphviz(dt_smote, out_file=None,\n",
    "                    feature_names=X_test.columns,\n",
    "                      class_names=['0', '1'],\n",
    "                      filled=True, rounded=True,\n",
    "                      special_characters=True)\n",
    "\n",
    "# showing visualization of the decision tree\n",
    "graph1=graphviz.Source(dot_data)\n",
    "graph1"
   ]
  },
  {
   "cell_type": "markdown",
   "metadata": {
    "id": "-kUPV2IvwAiH"
   },
   "source": [
    "Based on above, the model worsened. we need to use a different technique to try to increase precision, especially given, failing to identify positive instances is a significant issue."
   ]
  },
  {
   "cell_type": "markdown",
   "metadata": {
    "id": "vn8RfRNUtQAE"
   },
   "source": [
    "*Improving the model using GridSeachCV*\n",
    "\n",
    "Using GridSearch to do hyperparameter tuning to improve the model."
   ]
  },
  {
   "cell_type": "code",
   "execution_count": null,
   "metadata": {
    "colab": {
     "base_uri": "https://localhost:8080/"
    },
    "id": "25jsU0OkqcnS",
    "outputId": "65f8ff47-5329-475a-df57-40d9a2b911a8"
   },
   "outputs": [],
   "source": [
    "from sklearn.model_selection import GridSearchCV\n",
    "from sklearn.metrics import make_scorer, accuracy_score\n",
    "# Define the parameter grid\n",
    "param_grid = {\n",
    "    'max_depth': range(1,11),\n",
    "    'min_samples_split': range(2, 21, 2),\n",
    "    'min_samples_leaf': range(1, 21, 2),\n",
    "}\n",
    "\n",
    "# Initialize the classifier\n",
    "clf = DecisionTreeClassifier()\n",
    "\n",
    "# Initialize a scorer for the grid search\n",
    "scorer = make_scorer(accuracy_score)\n",
    "\n",
    "# Initialize the grid search\n",
    "grid_obj = GridSearchCV(clf, param_grid, scoring=scorer, cv=5)\n",
    "\n",
    "# Fit the grid search object to the data\n",
    "grid_obj = grid_obj.fit(X_train, y_train)\n",
    "\n",
    "# Get the estimator\n",
    "clf1 = grid_obj.best_estimator_\n",
    "\n",
    "# Fit the best algorithm to the data\n",
    "clf1.fit(X_train, y_train)\n",
    "\n",
    "predictions = clf1.predict(X_test)\n",
    "print('Accuracy: ', accuracy_score(y_test,predictions))\n",
    "\n",
    "# After fitting the grid search object to the data\n",
    "print('Best Parameters: ', grid_obj.best_params_)\n",
    "print('Best Score: ', grid_obj.best_score_)\n",
    "\n",
    "# Make predictions on the test set\n",
    "predictions = clf1.predict(X_test)\n",
    "\n",
    "# Calculate and print the metrics\n",
    "print('Accuracy: ', accuracy_score(y_test,predictions))\n",
    "print('Precision: ', precision_score(y_test,predictions))\n",
    "print('Recall: ', recall_score(y_test,predictions))\n",
    "print('F1 Score: ', f1_score(y_test,predictions))\n",
    "\n",
    "#Calculate train and test scores\n",
    "train_score = clf1.score(X_train, y_train)\n",
    "test_score = clf1.score(X_test, y_test)\n",
    "\n",
    "print('train score ', train_score)\n",
    "print('test score ', test_score)"
   ]
  },
  {
   "cell_type": "markdown",
   "metadata": {
    "id": "zdIOE6sAavDJ"
   },
   "source": [
    "Representing the same on the confusion matrix"
   ]
  },
  {
   "cell_type": "code",
   "execution_count": null,
   "metadata": {
    "colab": {
     "base_uri": "https://localhost:8080/",
     "height": 410
    },
    "id": "hUYA_kuN31LK",
    "outputId": "b4df0a41-5950-451f-cea3-dc2cea2f28db"
   },
   "outputs": [],
   "source": [
    "# creating the confusion matrix\n",
    "from sklearn.metrics import confusion_matrix\n",
    "import matplotlib.pyplot as plt\n",
    "\n",
    "# Assuming predictions are the predictions from your classifier\n",
    "conf_matrix = confusion_matrix(y_test, predictions)\n",
    "\n",
    "# Defining the labels for the matrix\n",
    "labels = ['Negative', 'Positive']\n",
    "\n",
    "# Creating a color map for the matrix\n",
    "cmap = 'Blues'\n",
    "\n",
    "# Plotting the confusion matrix with colors\n",
    "plt.figure(figsize=(6, 4))\n",
    "sns.heatmap(conf_matrix, annot=True, fmt=\"d\", cmap=cmap, xticklabels=labels, yticklabels=labels)\n",
    "plt.title(\"Confusion Matrix\")\n",
    "plt.xlabel(\"Predicted\")\n",
    "plt.ylabel(\"Actual\")\n",
    "plt.show()"
   ]
  },
  {
   "cell_type": "markdown",
   "metadata": {
    "id": "N2tztPSFt5J5"
   },
   "source": [
    "**Best Parameters:** The best parameters for the model as determined by GridSearchCV are a `maximum depth of 6 or 7` (max_depth: 6/7), a minimum number of `samples per leaf of 1 (min_samples_leaf: 1)`, and a minimum number of samples required to split an `internal node of 4 (min_samples_split: 4)`.\n",
    "\n",
    "**Best Score:** The highest accuracy obtained during the grid search on the training set was approximately `0.942 (or 94.2%)`.\n",
    "\n",
    "**Test Accuracy:** The model correctly predicted the outcome for about `94.8%` of instances in the test set.\n",
    "\n",
    "**Precision:** When the model predicts an instance to be positive, it is correct about `91.3%` of the time.\n",
    "\n",
    "**Recall:** The model is able to correctly identify about `72.3%` of all actual positive instances.\n",
    "\n",
    "**F1 Score:** The F1 score is approximately `0.807 (or 80.7%)`, suggesting that the balance between precision and recall is reasonably good, although there might be room for improvement, especially in terms of recall.\n",
    "\n",
    "A train score of `0.9632408102025506` means that the model has learned the patterns and relationships within the training data with an accuracy of approximately `96.32%`.\n",
    "\n",
    "A test score of `0.9460269865067467` indicates that the model is performing well on unseen data. It achieves an accuracy of approximately 94.60% on the test dataset, which suggests that the model is generalizing well and is not overfitting to the training data.\n",
    "\n",
    "In summary, the model is performing reasonably well, with high accuracy and precision despite the recall indicating that the model might be missing a fair proportion of positive instances. The train and test scores are also very close to each other suggesting that the model is generally performing quite well. Therefore, this is the model to choose for the Decision Tree"
   ]
  },
  {
   "cell_type": "markdown",
   "metadata": {
    "id": "EopZ8ITW6Pxs"
   },
   "source": [
    "*Generalization and Vsualization*\n",
    "\n",
    "Below code cell shows the generalization, visualization and display of the decision tree"
   ]
  },
  {
   "cell_type": "code",
   "execution_count": null,
   "metadata": {
    "colab": {
     "base_uri": "https://localhost:8080/",
     "height": 1000
    },
    "id": "gyJseacGv8aB",
    "outputId": "ce0006d9-3fdc-415d-e4c2-67e133a823ee"
   },
   "outputs": [],
   "source": [
    "# doing reneralization of the model\n",
    "dot_data= export_graphviz(clf1, out_file=None,\n",
    "                    feature_names=X_test.columns,\n",
    "                      class_names=['0', '1'],\n",
    "                      filled=True, rounded=True,\n",
    "                      special_characters=True)\n",
    "\n",
    "# showing visualization of the decision tree\n",
    "graph2=graphviz.Source(dot_data)\n",
    "graph2"
   ]
  },
  {
   "cell_type": "markdown",
   "metadata": {
    "id": "r9t3yL5i6r64"
   },
   "source": [
    "*Feature Importance*\n",
    "\n",
    "Below cell looks at the top most important features resulting to customer churning or not"
   ]
  },
  {
   "cell_type": "code",
   "execution_count": null,
   "metadata": {
    "colab": {
     "base_uri": "https://localhost:8080/",
     "height": 928
    },
    "id": "OTe2DPkcw4AV",
    "outputId": "0ca14150-90ca-4fb2-f5c8-dc80a31a4f5c"
   },
   "outputs": [],
   "source": [
    "# Get the feature importances from the model\n",
    "importances = clf1.feature_importances_\n",
    "\n",
    "# Create a dictionary to store the feature importances\n",
    "feature_importance_dict = {}\n",
    "\n",
    "# Iterate over the column names and corresponding importances\n",
    "for feature_name, importance in zip(df.columns, importances):\n",
    "    feature_importance_dict[feature_name] = importance\n",
    "\n",
    "# Sort the feature importances in descending order\n",
    "sorted_importances = sorted(feature_importance_dict.items(), key=lambda x: x[1], reverse=True)\n",
    "\n",
    "# Print the sorted feature importances\n",
    "for feature_name, importance in sorted_importances:\n",
    "    print(f\"{feature_name}: {importance}\")\n",
    "\n",
    "# Extract the feature names and importances from the sorted list\n",
    "feature_names = [feature[0] for feature in sorted_importances]\n",
    "importances = [feature[1] for feature in sorted_importances]\n",
    "\n",
    "# Reverse the lists to flip the order\n",
    "feature_names = feature_names[::-1]\n",
    "importances = importances[::-1]\n",
    "\n",
    "# Plot the feature importances as a bar graph\n",
    "plt.figure(figsize=(10, 6))\n",
    "plt.barh(range(len(importances)), importances, align='center')\n",
    "plt.yticks(range(len(feature_names)), feature_names)\n",
    "plt.xlabel('Importance')\n",
    "plt.ylabel('Features')\n",
    "plt.title('Feature Importance')\n",
    "plt.show()"
   ]
  },
  {
   "cell_type": "markdown",
   "metadata": {
    "id": "eX8VZTWQ3CWw"
   },
   "source": [
    "**Intepreting feature Importance**\n",
    "\n",
    "The numbers next to each feature name indicate the relative importance of the feature in predicting the target variable. A higher value signifies a more important feature.\n",
    "\n",
    "**Total_day_charge = 0.18414072455346542:** Customers with higher daytime charges are more likely to churn.\n",
    "\n",
    "**Total_intl_charge = 0.14617507561010684:** The total charges for international calls have the second-highest importance. Higher international charges might indicate dissatisfaction or cost-related concerns, leading to a higher likelihood of churn.\n",
    "\n",
    "**Total_day_minutes = 0.12530118583030148:** The total duration of daytime calls is the third most important feature. Customers with longer daytime call durations may have higher engagement or usage, which can influence churn.\n",
    "\n",
    "**Total_intl_calls = 0.1122479319664445:** The total number of international calls made is the fourth most important feature. A higher number of international calls may indicate a need for expanded communication beyond local services, which could impact churn.\n",
    "\n",
    "**Total_eve_minutes = 0.10934806907121288:** The total duration of evening calls has the fifth highest importance. Longer evening call durations might indicate more active engagement with the service and affect churn.\n",
    "\n",
    "The remaining features continue with decreasing importance. It's important to note that features with an importance of 0.0 do not contribute significantly to the model's predictions."
   ]
  },
  {
   "cell_type": "markdown",
   "metadata": {
    "id": "YSgd8RwS96aX"
   },
   "source": [
    "**Model 4: Random Forests**"
   ]
  },
  {
   "cell_type": "markdown",
   "metadata": {
    "id": "xjnbqmmmtauG"
   },
   "source": [
    "# **RandomForestClassifier**"
   ]
  },
  {
   "cell_type": "code",
   "execution_count": null,
   "metadata": {
    "colab": {
     "base_uri": "https://localhost:8080/"
    },
    "id": "igAW5jOUpUHI",
    "outputId": "48fbb72b-4ca5-433c-e7b3-7c0c249f09e7"
   },
   "outputs": [],
   "source": [
    "from sklearn.ensemble import RandomForestClassifier\n",
    "from sklearn.metrics import accuracy_score, precision_score, recall_score, f1_score\n",
    "\n",
    "# Instantiate the standard scaler\n",
    "scaler = StandardScaler()\n",
    "\n",
    "# Fit and transform the features\n",
    "X_train_scaled = scaler.fit_transform(X_train)\n",
    "X_test_scaled = scaler.transform(X_test)\n",
    "\n",
    "# Initialize the Random Forest classifier\n",
    "rf = RandomForestClassifier(n_estimators=100, random_state=42)\n",
    "\n",
    "# Train the classifier on the training data\n",
    "rf.fit(X_train_scaled, y_train)\n",
    "\n",
    "# Make predictions on the testing data\n",
    "y_pred = rf.predict(X_test_scaled)\n",
    "\n",
    "# Evaluate the model's performance\n",
    "accuracy_rf = accuracy_score(y_test, y_pred)\n",
    "precision_rf = precision_score(y_test, y_pred)\n",
    "recall_rf = recall_score(y_test, y_pred)\n",
    "f1_rf = f1_score(y_test, y_pred)\n",
    "\n",
    "# Print the evaluation metrics\n",
    "print(\"Accuracy:\", accuracy_rf)\n",
    "print(\"Precision:\", precision_rf)\n",
    "print(\"Recall:\", recall_rf)\n",
    "print(\"F1-score:\", f1_rf)\n",
    "\n",
    "# Calculate train and test scores\n",
    "train_score = rf.score(X_train_scaled, y_train)\n",
    "test_score = rf.score(X_test_scaled, y_test)\n",
    "\n",
    "print(\"Train score:\", train_score)\n",
    "print(\"Test score:\", test_score)\n"
   ]
  },
  {
   "cell_type": "markdown",
   "metadata": {
    "id": "HTGW4abDqG-i"
   },
   "source": [
    "Accuracy: 0.9505247376311844\n",
    "The accuracy score is the proportion of correctly classified samples (both churn and not churned) to the total number of samples in the test set. In this case, the model correctly predicted approximately 95.05% of the samples, which indicates that the model is performing well overall.\n",
    "\n",
    "Precision: 0.925\n",
    "Precision is the proportion of true positive predictions (correctly predicted churned samples) to all positive predictions made by the model (samples predicted as churned). The precision score of approximately 0.925 means that out of all the samples the model predicted as churned, around 92.5% of them were actually churned.\n",
    "\n",
    "Recall: 0.7326732673267327\n",
    "Recall, also known as sensitivity or true positive rate, is the proportion of true positive predictions (correctly predicted churned samples) to all actual positive samples (ground truth churned samples). The recall score of approximately 0.7327 indicates that the model captured around 73.27% of the actual churned samples.\n",
    "\n",
    "F1-score: 0.8176795580110497\n",
    "The F1-score is the harmonic mean of precision and recall, providing a balanced measure that considers both false positives and false negatives. A higher F1-score (closer to 1) indicates a better balance between precision and recall. The F1-score of approximately 0.8177 suggests that the model has a good balance between identifying churned samples (high recall) and avoiding false positives (high precision).\n",
    "\n",
    "Train score: 1.0\n",
    "The train score of 1.0 indicates that the model achieved perfect accuracy on the training data. This could be an indication of potential overfitting, meaning the model may have memorized the training data and might not generalize well to new, unseen data.\n",
    "\n",
    "Test score: 0.9505247376311844\n",
    "The test score of approximately 0.9505 is the accuracy of the model on the test data. It is very close to the accuracy achieved on the training data, suggesting that the model is performing well and generalizing reasonably well to unseen data. However, since the test score is slightly lower than the training score, there might be some slight overfitting.\n",
    "\n",
    "In conclusion, the Random Forest model seems to have performed well in predicting churn and not churned customers based on yesterday's data. It achieved high accuracy, precision, and recall scores, indicating that it is effective in identifying churned customers while minimizing false positives."
   ]
  },
  {
   "cell_type": "markdown",
   "metadata": {
    "id": "bXRm11aHuz37"
   },
   "source": [
    "\n",
    "\n",
    "> Using k-fold cross-validation to address overfitting\n",
    "\n"
   ]
  },
  {
   "cell_type": "code",
   "execution_count": null,
   "metadata": {
    "colab": {
     "base_uri": "https://localhost:8080/"
    },
    "id": "7Aw9_1dFuNqi",
    "outputId": "11a407ba-39be-416b-bbe4-60f7c9aa196a"
   },
   "outputs": [],
   "source": [
    "import numpy as np\n",
    "from sklearn.model_selection import cross_val_score\n",
    "from sklearn.metrics import precision_score, recall_score, f1_score\n",
    "\n",
    "# Instantiate the Random Forest classifier with desired parameters\n",
    "rf = RandomForestClassifier(n_estimators=100, random_state=42)\n",
    "\n",
    "# Fit and transform the features\n",
    "X_train_scaled = scaler.fit_transform(X_train)\n",
    "X_test_scaled = scaler.transform(X_test)\n",
    "\n",
    "# Address overfitting by using k-fold cross-validation\n",
    "k = 5  # Number of folds for cross-validation\n",
    "cv_scores = cross_val_score(rf, X_train_scaled, y_train, cv=k, scoring='accuracy')\n",
    "\n",
    "# Train the classifier on the entire training data\n",
    "rf.fit(X_train_scaled, y_train)\n",
    "\n",
    "# Make predictions on the testing data\n",
    "y_pred = rf.predict(X_test_scaled)\n",
    "\n",
    "# Evaluate the model's performance\n",
    "accuracy_rf = np.mean(cv_scores)\n",
    "precision_rf = precision_score(y_test, y_pred)\n",
    "recall_rf = recall_score(y_test, y_pred)\n",
    "f1_rf = f1_score(y_test, y_pred)\n",
    "\n",
    "# Print the evaluation metrics\n",
    "print(\"Cross-Validation Accuracy:\", accuracy_rf)\n",
    "print(\"Precision:\", precision_rf)\n",
    "print(\"Recall:\", recall_rf)\n",
    "print(\"F1-score:\", f1_rf)\n",
    "\n",
    "# Calculate train and test scores\n",
    "train_score = rf.score(X_train_scaled, y_train)\n",
    "test_score = rf.score(X_test_scaled, y_test)\n",
    "\n",
    "# Print the train and test scores\n",
    "print(\"Train score:\", train_score)\n",
    "print(\"Test score:\", test_score)\n",
    "\n"
   ]
  },
  {
   "cell_type": "markdown",
   "metadata": {
    "id": "0J6LEpjSwPKN"
   },
   "source": [
    "Random Forest classifier with reduced n_estimators and limited max_depth"
   ]
  },
  {
   "cell_type": "code",
   "execution_count": null,
   "metadata": {
    "colab": {
     "base_uri": "https://localhost:8080/"
    },
    "id": "xS-YxddrwGNz",
    "outputId": "debaf740-5303-4415-c50d-1b34031a3ffc"
   },
   "outputs": [],
   "source": [
    "from sklearn.ensemble import RandomForestClassifier\n",
    "from sklearn.metrics import accuracy_score, precision_score, recall_score, f1_score\n",
    "\n",
    "# Instantiate the Random Forest classifier with reduced n_estimators and limited max_depth\n",
    "rf = RandomForestClassifier(n_estimators=50, max_depth=10, random_state=42)\n",
    "\n",
    "# Fit and transform the features\n",
    "X_train_scaled = scaler.fit_transform(X_train)\n",
    "X_test_scaled = scaler.transform(X_test)\n",
    "\n",
    "# Address overfitting by using k-fold cross-validation\n",
    "k = 5  # Number of folds for cross-validation\n",
    "cv_scores = cross_val_score(rf, X_train_scaled, y_train, cv=k, scoring='accuracy')\n",
    "\n",
    "# Train the classifier on the entire training data\n",
    "rf.fit(X_train_scaled, y_train)\n",
    "\n",
    "# Make predictions on the testing data\n",
    "y_pred = rf.predict(X_test_scaled)\n",
    "\n",
    "# Evaluate the model's performance\n",
    "accuracy_rf = np.mean(cv_scores)\n",
    "precision_rf = precision_score(y_test, y_pred)\n",
    "recall_rf = recall_score(y_test, y_pred)\n",
    "f1_rf = f1_score(y_test, y_pred)\n",
    "\n",
    "# Print the evaluation metrics\n",
    "print(\"Cross-Validation Accuracy:\", accuracy_rf)\n",
    "print(\"Precision:\", precision_rf)\n",
    "print(\"Recall:\", recall_rf)\n",
    "print(\"F1-score:\", f1_rf)\n",
    "\n",
    "# Calculate train and test scores\n",
    "train_score = rf.score(X_train_scaled, y_train)\n",
    "test_score = rf.score(X_test_scaled, y_test)\n",
    "\n",
    "# Print the train and test scores\n",
    "print(\"Train score:\", train_score)\n",
    "print(\"Test score:\", test_score)\n"
   ]
  },
  {
   "cell_type": "markdown",
   "metadata": {
    "id": "AmgNqmrGz5BJ"
   },
   "source": [
    "Cross-Validation Accuracy: `0.9504887183703297`\n",
    "The cross-validation accuracy is approximately `95.05%`. This means that, on average, the Random Forest model achieved about 95.05% accuracy when trained and evaluated using `k-fold cross-validation`. It indicates that the model is performing well and generalizing reasonably well to new, unseen data.\n",
    "\n",
    "Precision: `0.9577464788732394`\n",
    "The precision score is approximately `95.77%`. This means that out of all the samples the model predicted as churned, around `95.77%` of them were actually churned. A high precision score indicates that the model makes a few false positive predictions, which is essential in applications where false positives are costly.\n",
    "\n",
    "Recall: `0.6732673267326733`\n",
    "The recall score is approximately `67.33%`. This means that the model captured around `67.33%` of the actual churned samples. A higher recall would be desirable as it indicates better sensitivity in detecting churned customers.\n",
    "\n",
    "F1-score: `0.7906976744186046`\n",
    "The F1-score is approximately `79.07%`. It is the harmonic mean of precision and recall and provides a balanced measure considering both false positives and false negatives. A higher F1-score (closer to 1) indicates a better balance between precision and recall.\n",
    "\n",
    "Train score: 0.9786196549137285\n",
    "The train score is approximately 97.86%. It indicates that the model achieved high accuracy (nearly 98%) on the training data. This suggests that the model has learned the training data well, but it also raises a concern about potential overfitting.\n",
    "\n",
    "Test score: `0.9460269865067467`\n",
    "The test score is approximately `94.60%`. It shows that the model achieved an accuracy of around `94.60%` on the test data, which is slightly lower than the train score. This difference suggests some degree of overfitting, but it's not significant, considering the model's test performance is still high.\n",
    "\n",
    "In summary, the Random Forest model seems to perform well overall in predicting customer churn based on the given dataset. It has high accuracy and precision, indicating it correctly classifies a significant portion of churned and not churned customers. However, the recall could be improved to better capture churned customers."
   ]
  },
  {
   "cell_type": "code",
   "execution_count": null,
   "metadata": {
    "colab": {
     "base_uri": "https://localhost:8080/",
     "height": 564
    },
    "id": "u10oh7scwUad",
    "outputId": "29b29829-5316-4355-e944-e9b6cc05c367"
   },
   "outputs": [],
   "source": [
    "import matplotlib.pyplot as plt\n",
    "import seaborn as sns\n",
    "from sklearn.metrics import confusion_matrix\n",
    "\n",
    "# Compute the confusion matrix\n",
    "cm = confusion_matrix(y_test, y_pred)\n",
    "\n",
    "# Create a heatmap for visualization\n",
    "plt.figure(figsize=(8, 6))\n",
    "sns.heatmap(cm, annot=True, fmt='d', cmap='Blues', cbar=False,\n",
    "            xticklabels=['Not Churned', 'Churned'],\n",
    "            yticklabels=['Not Churned', 'Churned'])\n",
    "\n",
    "plt.xlabel('Predicted Label')\n",
    "plt.ylabel('True Label')\n",
    "plt.title('Confusion Matrix')\n",
    "plt.show()"
   ]
  },
  {
   "cell_type": "code",
   "execution_count": null,
   "metadata": {
    "colab": {
     "base_uri": "https://localhost:8080/",
     "height": 564
    },
    "id": "QAXWdNL4wi8J",
    "outputId": "c8902d52-bdb0-4e5a-8601-51ec8a0a6491"
   },
   "outputs": [],
   "source": [
    "import matplotlib.pyplot as plt\n",
    "import seaborn as sns\n",
    "import pandas as pd\n",
    "from sklearn.ensemble import RandomForestClassifier\n",
    "\n",
    "# Instantiate the Random Forest classifier with desired parameters\n",
    "rf = RandomForestClassifier(n_estimators=50, random_state=42)\n",
    "\n",
    "# Train the classifier on the training data (using scaled features)\n",
    "rf.fit(X_train_scaled, y_train)\n",
    "\n",
    "# Get the feature importances from the trained model\n",
    "feature_importances = rf.feature_importances_\n",
    "\n",
    "# Create a DataFrame to store feature importances and corresponding feature names\n",
    "importance_df = pd.DataFrame({'Feature': X_train.columns, 'Importance': feature_importances})\n",
    "\n",
    "# Sort the DataFrame by importance values in descending order\n",
    "importance_df = importance_df.sort_values(by='Importance', ascending=False)\n",
    "\n",
    "# Plot the top N most important features\n",
    "top_n = 10  # You can change this value to get more or fewer features\n",
    "plt.figure(figsize=(10, 6))\n",
    "sns.barplot(x='Importance', y='Feature', data=importance_df.head(top_n), palette='viridis')\n",
    "plt.title(f'Top {top_n} Most Important Features for Customer Churn Prediction')\n",
    "plt.xlabel('Importance')\n",
    "plt.ylabel('Feature')\n",
    "plt.show()"
   ]
  },
  {
   "cell_type": "markdown",
   "metadata": {
    "id": "HfSRdvIhPnzg"
   },
   "source": [
    "Importance vs"
   ]
  },
  {
   "cell_type": "code",
   "execution_count": null,
   "metadata": {
    "colab": {
     "base_uri": "https://localhost:8080/",
     "height": 708
    },
    "id": "4xBCaRaMPloq",
    "outputId": "20b2bbfd-69c4-4176-f628-561d5596421e"
   },
   "outputs": [],
   "source": [
    "importance_df"
   ]
  }
 ],
 "metadata": {
  "colab": {
   "provenance": []
  },
  "kernelspec": {
   "display_name": "Python (learn-env)",
   "language": "python",
   "name": "learn-env"
  },
  "language_info": {
   "codemirror_mode": {
    "name": "ipython",
    "version": 3
   },
   "file_extension": ".py",
   "mimetype": "text/x-python",
   "name": "python",
   "nbconvert_exporter": "python",
   "pygments_lexer": "ipython3",
   "version": "3.8.5"
  }
 },
 "nbformat": 4,
 "nbformat_minor": 1
}
